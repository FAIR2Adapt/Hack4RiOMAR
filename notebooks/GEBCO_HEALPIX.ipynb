{
 "cells": [
  {
   "cell_type": "raw",
   "id": "2650909d-88c1-478c-bdf4-101558df9c68",
   "metadata": {},
   "source": [
    "!wget -O gebco_2024_sub_ice_topo.zip \"https://www.bodc.ac.uk/data/open_download/gebco/gebco_2024/zip/\"\n"
   ]
  },
  {
   "cell_type": "raw",
   "id": "2695c4d4-079d-4125-bbfb-ec3369a3bf5e",
   "metadata": {},
   "source": [
    "!unzip gebco_2024_sub_ice_topo.zip"
   ]
  },
  {
   "cell_type": "code",
   "execution_count": null,
   "id": "581c2231-fcea-44f6-8d16-632866d0e4db",
   "metadata": {},
   "outputs": [],
   "source": [
    "import healpy as hp\n",
    "import matplotlib.pyplot as plt\n",
    "import numpy as np\n",
    "import xarray as xr"
   ]
  },
  {
   "cell_type": "code",
   "execution_count": null,
   "id": "b08f57a9-9f33-4aea-bb82-93ce52209048",
   "metadata": {},
   "outputs": [],
   "source": [
    "url='./GEBCO_2024.nc'\n",
    "\n",
    "url='/home/lops-oh-fair2adapt/gebco/GEBCO_2024.nc'\n",
    "\n",
    "ds = xr.open_dataset(url)\n",
    "ds"
   ]
  },
  {
   "cell_type": "code",
   "execution_count": null,
   "id": "0323f801-9d2c-4d51-84c6-7af8394de75c",
   "metadata": {},
   "outputs": [],
   "source": [
    "ds.elevation.sizes['lat']"
   ]
  },
  {
   "cell_type": "code",
   "execution_count": null,
   "id": "57c35e32-e9ae-4fad-aa2e-afc7e6d1f0d5",
   "metadata": {},
   "outputs": [],
   "source": [
    "nside=2048\n",
    "chunk=1000\n",
    "nest=True\n",
    "level=int(np.log2(nside))\n",
    "cell_id_name=\"cell_ids\"\n",
    "healpix_ids = np.arange(12 * nside**2)\n",
    "chunk_late = 12#*(2**level)\n",
    "chunk_size = int(( 12 * (4**level)) / chunk_late)\n",
    "chunk_size, 12 * nside**2"
   ]
  },
  {
   "cell_type": "code",
   "execution_count": null,
   "id": "fea8127f-cd2c-4416-9df5-20729e8ba3a0",
   "metadata": {},
   "outputs": [],
   "source": [
    "im=np.zeros([12*nside**2])\n",
    "him=np.zeros([12*nside**2])\n",
    "for k in range(0,ds.elevation.sizes['lat'],chunk):\n",
    "    print(k)\n",
    "    ed=k+chunk\n",
    "    if ed>ds.elevation.sizes['lat']:\n",
    "        ed=ds.elevation.sizes['lat']\n",
    "    hidx = hp.ang2pix(\n",
    "            nside,\n",
    "            np.tile(ds.elevation.lon,ed-k),\n",
    "            np.repeat(ds.elevation.lat[k:ed],ds.elevation.sizes['lon']),\n",
    "            lonlat=True,\n",
    "            nest=next,\n",
    "        )\n",
    "    im+=np.bincount(hidx,weights=ds.elevation[k:ed,:].values.flatten(),minlength=12*nside**2)\n",
    "    him+=np.bincount(hidx,minlength=12*nside**2)"
   ]
  },
  {
   "cell_type": "code",
   "execution_count": null,
   "id": "1b30672d-2f3b-4df1-a54d-27d77f2e8edb",
   "metadata": {},
   "outputs": [],
   "source": [
    "url='./'\n",
    "\n",
    "url='/home/lops-oh-fair2adapt/gebco/'\n",
    "\n",
    "hp.write_map(url+'GEBCO_%d.fits'%(nside),im/him,nest=True,overwrite=True)\n",
    "hp.mollview(im/him,nest=True,flip='geo')"
   ]
  },
  {
   "cell_type": "code",
   "execution_count": null,
   "id": "bc980753-b22e-4777-8dbe-8a769dd0261f",
   "metadata": {},
   "outputs": [],
   "source": [
    "#save the output in zarr\n",
    "\n",
    "from numcodecs import Zstd\n",
    "\n",
    "var_cell_ids = xr.DataArray(\n",
    "            healpix_ids,\n",
    "            dims=\"cells\",\n",
    "            attrs={\"grid_name\": \"healpix\", \"nside\": nside, \"nest\": nest},\n",
    "        )\n",
    "ds = xr.DataArray(\n",
    "                        im/him,\n",
    "                        dims=(\"cells\", ),\n",
    "                       coords={cell_id_name: var_cell_ids, \n",
    "                               # \"orbit\": [orbit]\n",
    "                               },\n",
    "                        name='gebco',\n",
    "                    ).to_dataset().chunk({\"cells\": chunk_size})\n",
    "ds.cells.attrs = {\n",
    "    \"grid_name\": \"healpix\",\n",
    "    \"level\": level,\n",
    "    \"nest\": True,\n",
    "}                    \n",
    " \n",
    "url=f'/home/lops-oh-fair2adapt/gebco/healpix_level_{level}.zarr'\n",
    "zstd_compressor = Zstd(level=3)\n",
    "\n",
    "# Define a common compression setting\n",
    "compression_settings = {\"compressor\": zstd_compressor#, \"chunks\": (chunk_size, 1)\n",
    "                       }\n",
    "\n",
    "# Create the encoding dictionary for all variables\n",
    "encoding = {var: compression_settings for var in ds.data_vars}\n",
    "ds.to_zarr(url, mode=\"w\",  #consolidated=True,\n",
    "                        encoding=encoding)"
   ]
  },
  {
   "cell_type": "code",
   "execution_count": null,
   "id": "b224ff01-fd06-448e-af62-9fdeaa6dea6e",
   "metadata": {},
   "outputs": [],
   "source": []
  }
 ],
 "metadata": {
  "kernelspec": {
   "display_name": "riomar",
   "language": "python",
   "name": "riomar"
  },
  "language_info": {
   "codemirror_mode": {
    "name": "ipython",
    "version": 3
   },
   "file_extension": ".py",
   "mimetype": "text/x-python",
   "name": "python",
   "nbconvert_exporter": "python",
   "pygments_lexer": "ipython3",
   "version": "3.12.8"
  }
 },
 "nbformat": 4,
 "nbformat_minor": 5
}
