{
 "cells": [
  {
   "cell_type": "markdown",
   "id": "7e8c941f-784b-46a4-b596-bd0ee3c140a4",
   "metadata": {},
   "source": [
    "# Create RO-Crate from NIRD dataset\n",
    "\n",
    "## Context\n",
    "\n",
    "### Purpose\n",
    "We are demonstrating how to create a RO-Crate for a dataset by combining data stored in the NIRD archive (Norwegian Research Data Archive) with metadata derived from the RiOMar dataset. This example uses the rocrate Python library and adheres to the RO-Crate v1.1 specification, though it does not include a specific RO-Crate profile.\n",
    "\n",
    "### Requirements\n",
    "To run this notebook:\n",
    "\n",
    "- **NIRD Archive Account**: You will need an account on the NIRD archive.\n",
    "- **Development Status**: The NIRD archive is currently under development. The notebook will be updated once the archive becomes fully operational.\n",
    "- **Access Limitations**: At this stage, only members of the development or testing team of the new NIRD archive can execute this notebook.\n",
    "\n",
    "We will update this notebook as soon as the NIRD archive is fully functional and publicly available.\n",
    "\n",
    "## Contributions\n",
    "\n",
    "### Notebook\n",
    "\n",
    "- Anne Fouilloux (author), Simula Research Laboratory (Norway), @annefou\n",
    "- XX (reviewer)\n",
    "\n",
    "## Biblipgraphy and other interesting resources\n",
    "\n",
    "- [Norwegian Research Data Archive(NIRD)](https://www.sigma2.no/service/research-data-archive)\n",
    "- [Test deployment of the new NIRD archive](https://admin.ckan-archive-test.sigma2.no/)\n",
    "- [rocrate](https://pypi.org/project/rocrate/) Python package\n",
    "- [Research Object documentation](https://www.researchobject.org)"
   ]
  },
  {
   "cell_type": "code",
   "execution_count": null,
   "id": "0b1dff75-a254-4eae-9d03-fc4b01838052",
   "metadata": {},
   "outputs": [],
   "source": [
    "pip install rocrate"
   ]
  },
  {
   "cell_type": "code",
   "execution_count": null,
   "id": "982e2483-b0b5-4fe7-b9e4-47be7fcb83f0",
   "metadata": {},
   "outputs": [],
   "source": [
    "import requests\n",
    "import json\n",
    "from rocrate.rocrate import ROCrate\n",
    "from rocrate.model.person import Person\n",
    "import pandas as pd\n",
    "from datetime import datetime\n",
    "import geopandas\n",
    "import shapely\n",
    "import xarray as xr\n",
    "import numpy as np\n",
    "import s3fs"
   ]
  },
  {
   "cell_type": "markdown",
   "id": "0631c4e0-0e5c-4eb2-a850-44b49fa0c084",
   "metadata": {},
   "source": [
    "## Open RiOMar data to get metadata"
   ]
  },
  {
   "cell_type": "code",
   "execution_count": null,
   "id": "26d6ed4e-49bb-40c6-ae00-0b7009c7be31",
   "metadata": {},
   "outputs": [],
   "source": [
    "url = \"https://data-fair2adapt.ifremer.fr/riomar/small.zarr\""
   ]
  },
  {
   "cell_type": "code",
   "execution_count": null,
   "id": "5b48eb64-383b-4eae-b3dd-812eb5c469c2",
   "metadata": {},
   "outputs": [],
   "source": [
    "ds = xr.open_zarr(url)\n",
    "ds"
   ]
  },
  {
   "cell_type": "markdown",
   "id": "ff1c2632-c124-41e2-acb1-e70d8b8ffd31",
   "metadata": {},
   "source": [
    "## Get metadata from RiOMAR\n",
    "\n",
    "### Get bounding box in WKT\n",
    "- Latitudes with values of -1 are NaN"
   ]
  },
  {
   "cell_type": "code",
   "execution_count": null,
   "id": "010ca1f3-d450-4b7b-af96-690266b1386f",
   "metadata": {},
   "outputs": [],
   "source": [
    "minlat = ds.nav_lat_rho.where(ds.nav_lat_rho > -1, np.nan).min().values\n",
    "maxlat = ds.nav_lat_rho.max().values\n",
    "minlon = ds.nav_lon_rho.min().values\n",
    "maxlon = ds.nav_lon_rho.max().values\n",
    "print(minlat, maxlat, minlon, maxlon)"
   ]
  },
  {
   "cell_type": "code",
   "execution_count": null,
   "id": "0cbb4e28-be31-4626-9f68-06889c040d3d",
   "metadata": {},
   "outputs": [],
   "source": [
    "geometry_wkt = shapely.geometry.box(minlon, minlat, maxlon, maxlat).wkt\n",
    "geometry_wkt"
   ]
  },
  {
   "cell_type": "markdown",
   "id": "2edeba4f-ed1b-4369-af5b-e01d178ff2c2",
   "metadata": {},
   "source": [
    "- time range "
   ]
  },
  {
   "cell_type": "code",
   "execution_count": null,
   "id": "abbfaf9b-376a-4231-b001-d6fb979cf55d",
   "metadata": {},
   "outputs": [],
   "source": [
    "ts = pd.to_datetime(str(ds.time_counter.min().values)) \n",
    "te = pd.to_datetime(str(ds.time_counter.max().values)) \n",
    "date_start = ts.strftime('%Y.%m.%d')\n",
    "date_end = te.strftime('%Y.%m.%d')\n",
    "date_start, date_end"
   ]
  },
  {
   "cell_type": "markdown",
   "id": "adcdefad-1ede-452d-bbf5-3c6e7c713473",
   "metadata": {},
   "source": [
    "### Get information for the provenance"
   ]
  },
  {
   "cell_type": "code",
   "execution_count": null,
   "id": "abf88a98-3c85-4c88-b39f-55a8ff7ca356",
   "metadata": {},
   "outputs": [],
   "source": [
    "prov = {\n",
    "      \"@id\": \"https://doi.org/10.5281/zenodo.13898339\",\n",
    "      \"@type\": \"SoftwareApplication\",\n",
    "      \"url\": \"https://www.croco-ocean.org\",\n",
    "      \"name\": \"CROCO, Coastal and Regional Ocean COmmunity\",\n",
    "      \"version\": \"CROCO GAMA model v2.0.1 https://doi.org/10.5281/zenodo.13898339\"\n",
    "}"
   ]
  },
  {
   "cell_type": "markdown",
   "id": "e3886b12-4472-438b-8490-988fe828d033",
   "metadata": {},
   "source": [
    "## Get Institutions"
   ]
  },
  {
   "cell_type": "code",
   "execution_count": null,
   "id": "d13769de-0000-4d6c-9f48-f1709fbc7669",
   "metadata": {},
   "outputs": [],
   "source": [
    "#fs = s3fs.S3FileSystem(anon=True)\n",
    "client_kwargs={'endpoint_url': 'https://pangeo-eosc-minioapi.vm.fedcloud.eu/'}\n",
    "\n",
    "s3 = s3fs.S3FileSystem(anon=True, client_kwargs=client_kwargs)\n",
    "\n",
    "filename = \"afouilloux-fair2adapt/institution-v3.json\"\n",
    "with s3.open(filename, 'r') as file:\n",
    "    data = file.read()\n",
    "    institutions = json.loads(data)\n",
    "institutions = pd.DataFrame.from_dict(institutions)\n",
    "institutions.head()"
   ]
  },
  {
   "cell_type": "markdown",
   "id": "5f9ce3cb-9f07-4ee6-8c8a-4ea26deebe9c",
   "metadata": {},
   "source": [
    "### Split name in several columns"
   ]
  },
  {
   "cell_type": "code",
   "execution_count": null,
   "id": "766bf3e4-d329-4628-b335-f6dac81461ca",
   "metadata": {},
   "outputs": [],
   "source": [
    "rename_cols = {}\n",
    "for name in institutions[\"name\"].apply(pd.Series).columns:\n",
    "    rename_cols[name] = \"name-\" + name\n",
    "rename_cols"
   ]
  },
  {
   "cell_type": "code",
   "execution_count": null,
   "id": "2f5aa748-3439-4d24-94c8-2dd500284a96",
   "metadata": {},
   "outputs": [],
   "source": [
    "institutions = institutions.join( institutions[\"name\"].apply(pd.Series))\n",
    "institutions = institutions.rename(columns=rename_cols)\n",
    "institutions.head()"
   ]
  },
  {
   "cell_type": "markdown",
   "id": "67eabf3b-baee-4398-bdd6-db7cfb3ff1a9",
   "metadata": {},
   "source": [
    "## Access the NIRD Archive via its API\n",
    "- To be able to access the NIRD Archive via its API, you first need to register to the NIRD Archive and request a token.\n",
    "- Please note that the NIRD archive is still under development and registration to `https://admin.ckan-archive-test.sigma2.no` is reserved to administrators.\n",
    "- However, once the NIRD archive opens and you obtain your token,  and can create a file called `nird.json` that will look like this:\n",
    "\n",
    "```json\n",
    "   {\n",
    "\"token\": \"xxxx\"\n",
    "}\n",
    "```"
   ]
  },
  {
   "cell_type": "code",
   "execution_count": null,
   "id": "55ee8107-279e-4c6d-a781-176c643248a2",
   "metadata": {},
   "outputs": [],
   "source": [
    "try:\n",
    "    with open(\"./nird.json\") as config:\n",
    "        token = json.load(config)[\"token\"]\n",
    "except FileNotFoundError:\n",
    "    print(\"config.json not found!\")"
   ]
  },
  {
   "cell_type": "code",
   "execution_count": null,
   "id": "580c31a1-1ff5-4c4f-b0f7-062ed3074830",
   "metadata": {},
   "outputs": [],
   "source": [
    "url = \"https://admin.ckan-archive-test.sigma2.no/api/3/action/package_search\"\n",
    "response = requests.get(url, headers={ \"Authorization\": token})\n",
    "\n",
    "list_records = response.json()[\"result\"][\"results\"]\n",
    "list_records"
   ]
  },
  {
   "cell_type": "markdown",
   "id": "fdd20172-eb2f-4d45-a9f7-d2195972de6c",
   "metadata": {},
   "source": [
    "## DOI to find in the NIRD archive"
   ]
  },
  {
   "cell_type": "code",
   "execution_count": null,
   "id": "f541b7d5-de12-4a7a-bfbc-d93adba9edd3",
   "metadata": {},
   "outputs": [],
   "source": [
    "doi = \"10.82969/2025.hkfi3bn9.v2\""
   ]
  },
  {
   "cell_type": "code",
   "execution_count": null,
   "id": "4ea244b6-7dcf-4c8c-9c8d-20b77b58daac",
   "metadata": {},
   "outputs": [],
   "source": [
    "for rec in (x for x in list_records if x[\"doi\"] == doi):\n",
    "    pass"
   ]
  },
  {
   "cell_type": "code",
   "execution_count": null,
   "id": "7792e23d-cb7c-4bec-88d2-9a14a911f37c",
   "metadata": {
    "scrolled": true
   },
   "outputs": [],
   "source": [
    "print(rec)"
   ]
  },
  {
   "cell_type": "code",
   "execution_count": null,
   "id": "508a44f1-0446-4741-84d6-9ad9ac537e0d",
   "metadata": {},
   "outputs": [],
   "source": [
    "rec"
   ]
  },
  {
   "cell_type": "markdown",
   "id": "7b452d92-85ce-47ff-b1fc-3acee12d7f5e",
   "metadata": {},
   "source": [
    "## Create a new RO-Crate"
   ]
  },
  {
   "cell_type": "code",
   "execution_count": null,
   "id": "875d831c-08d4-4435-8349-d904570bf2d1",
   "metadata": {},
   "outputs": [],
   "source": [
    "crate = ROCrate()"
   ]
  },
  {
   "cell_type": "markdown",
   "id": "8e3a0d3f-b0ce-44ab-b858-a392c4c65f01",
   "metadata": {},
   "source": [
    "## Add the license for the RO-Crate"
   ]
  },
  {
   "cell_type": "code",
   "execution_count": null,
   "id": "2450c7f7-427f-4364-a80a-bb81e644480c",
   "metadata": {},
   "outputs": [],
   "source": [
    "crate.update_jsonld(\n",
    "{\n",
    "    \"@id\": \"./\",\n",
    "    \"license\": { \"@id\":  rec[\"license_url\"]},\n",
    "})\n",
    "license = {\n",
    "                \"@id\": rec[\"license_url\"],\n",
    "                \"@type\": \"CreativeWork\",\n",
    "                \"name\": rec[\"license_id\"],\n",
    "                \"description\": rec[\"license_title\"],\n",
    "                }\n",
    "crate.add_jsonld(license)"
   ]
  },
  {
   "cell_type": "markdown",
   "id": "e2bcc825-d82b-49e0-a010-b3759cef049e",
   "metadata": {},
   "source": [
    "## Add creators and their Organizations\n",
    "\n",
    "We also need the ROR to create an affiliation for each organization found"
   ]
  },
  {
   "cell_type": "code",
   "execution_count": null,
   "id": "29f65a1e-96c0-4b0d-b0b7-a8d2e91dc01c",
   "metadata": {},
   "outputs": [],
   "source": [
    "def get_ror(institutions, org):\n",
    "    ror = {}\n",
    "    for name in rename_cols.values():\n",
    "        if not institutions.loc[institutions[name].isin([org])].empty:\n",
    "            ror_url = institutions.loc[institutions[name].isin([org])][\"ror\"].values[0]\n",
    "            ror = {\n",
    "                \"@id\": ror_url,\n",
    "                \"@type\": \"Organization\",\n",
    "                \"name\": org,\n",
    "                \"url\": ror_url\n",
    "                }\n",
    "    return ror"
   ]
  },
  {
   "cell_type": "code",
   "execution_count": null,
   "id": "b9708967-88ae-48ac-913e-bc258ba75241",
   "metadata": {
    "scrolled": true
   },
   "outputs": [],
   "source": [
    "list_authors = []\n",
    "list_orcids = []\n",
    "for creator in rec[\"creators\"]:\n",
    "    creator['givenName'] = creator.pop('first_name')\n",
    "    creator['familyName'] = creator.pop('last_name') \n",
    "    list_authors.append(creator['givenName'] + \" \" +  creator['familyName'])\n",
    "    org_name = creator.pop(\"organisation\")\n",
    "    ror = get_ror(institutions, org_name)\n",
    "    creator[\"affiliation\"] = {\"@id\": ror[\"url\"]}\n",
    "    orcid = creator.pop(\"orcid\")\n",
    "    print(creator)\n",
    "    crate.add(Person(crate, \"https://orcid.org/\" + orcid, properties=creator))\n",
    "    list_orcids.append({ \"@id\":  \"https://orcid.org/\" + orcid })\n",
    "    crate.add_jsonld(ror)\n",
    "\n",
    "# Add the list of authors\n",
    "crate.update_jsonld({\n",
    "    \"@id\": \"./\",\n",
    "    \"author\": list_orcids,\n",
    "})\n",
    "\n",
    "rec.pop(\"creators\")"
   ]
  },
  {
   "cell_type": "markdown",
   "id": "8b0497c1-ac3c-4035-a544-2407e027a54e",
   "metadata": {},
   "source": [
    "## Add data"
   ]
  },
  {
   "cell_type": "code",
   "execution_count": null,
   "id": "7ae14ce1-ab61-4ecb-a44e-060df5f30202",
   "metadata": {},
   "outputs": [],
   "source": [
    "for toc in (x for x in rec[\"resources\"] if x[\"name\"] == \"table_of_contents\"):\n",
    "    pass\n",
    "toc[\"url\"]"
   ]
  },
  {
   "cell_type": "code",
   "execution_count": null,
   "id": "31086c78-32a8-4466-ba4c-72415ead4b72",
   "metadata": {},
   "outputs": [],
   "source": [
    "for resource in rec[\"resources\"]:\n",
    "    print(resource[\"name\"])"
   ]
  },
  {
   "cell_type": "code",
   "execution_count": null,
   "id": "3015e021-38f4-407f-8ef6-8ddd1b18407c",
   "metadata": {},
   "outputs": [],
   "source": [
    "df = pd.read_csv(toc[\"url\"], sep=\"|\")\n",
    "df = df.drop([0, 0])\n",
    "df.head()"
   ]
  },
  {
   "cell_type": "code",
   "execution_count": null,
   "id": "b6a1e254-e607-4de7-b511-04f84a0c54ab",
   "metadata": {},
   "outputs": [],
   "source": [
    "df.columns"
   ]
  },
  {
   "cell_type": "code",
   "execution_count": null,
   "id": "bfdba553-17a0-4f9a-a3fc-6cfb481c3669",
   "metadata": {},
   "outputs": [],
   "source": [
    "rec"
   ]
  },
  {
   "cell_type": "markdown",
   "id": "c6b779aa-b8d5-4360-a627-06d6fe5a076c",
   "metadata": {},
   "source": [
    "### Prepare Temporal coverage if available"
   ]
  },
  {
   "cell_type": "code",
   "execution_count": null,
   "id": "d7e99b8c-f027-47ed-b2bf-429d0a0a8e4b",
   "metadata": {},
   "outputs": [],
   "source": [
    "if \"temporal\" in rec.keys():\n",
    "    temporal_coverage = rec[\"temporal\"][\"start\"] + \"/\" + rec[\"temporal\"][\"end\"] \n",
    "else:\n",
    "    temporal_coverage = None"
   ]
  },
  {
   "cell_type": "markdown",
   "id": "94595220-ffad-4cf1-b1bb-3081522342c2",
   "metadata": {},
   "source": [
    "### Prepare Spatial coverage if available"
   ]
  },
  {
   "cell_type": "code",
   "execution_count": null,
   "id": "71378cb7-8fc1-45ec-ac2b-4c3cd715544b",
   "metadata": {},
   "outputs": [],
   "source": [
    "def get_geoshape(spatial):\n",
    "    if spatial[\"spatial_type\"] == \"wkt\":\n",
    "        geo = shapely.wkt.loads(spatial[\"value\"])\n",
    "        if hasattr(geo, 'geoms'):\n",
    "            # take the first one\n",
    "             geo = geo.geoms[0]\n",
    "        geo = geo.wkt.replace(\"POLYGON\", \"\").replace(\"(\",\"\").replace(\")\",\"\").strip()   \n",
    "        geolocation = { \"@type\": \"GeoShape\", \"@id\": geo, \"polygon\": geo}\n",
    "        return geolocation\n",
    "    else:\n",
    "        # Not implemented yet\n",
    "        return None\n",
    "\n",
    "if \"spatial\" in rec:\n",
    "    geolocation = get_geoshape(rec[\"spatial\"])"
   ]
  },
  {
   "cell_type": "code",
   "execution_count": null,
   "id": "04f1a7d0-728d-4cb2-b4ed-448d5e02598a",
   "metadata": {},
   "outputs": [],
   "source": [
    "rec[\"spatial\"]"
   ]
  },
  {
   "cell_type": "markdown",
   "id": "a45c7795-416a-44e3-bc50-29e0dc063dab",
   "metadata": {},
   "source": [
    "### Go through each data and add it in the RO-Crate "
   ]
  },
  {
   "cell_type": "code",
   "execution_count": null,
   "id": "19167758-0e7f-4b56-8737-ad570bc212b5",
   "metadata": {},
   "outputs": [],
   "source": [
    "# \"https://admin.ckan-archive-test.sigma2.no\" + \n",
    "for row in df.itertuples(index=False, name=None):\n",
    "    resource2add = {df.columns[i].strip() : row[i] for i, _ in enumerate(row)}\n",
    "    url = resource2add.pop(\"http_url\").strip()\n",
    "    resource2add[\"name\"] = resource2add[\"filename\"].strip()\n",
    "    resource2add[\"s3_url\"] = \"s3:/\" + resource2add[\"s3_url\"].strip()\n",
    "    resource2add[\"sdDatePublished\"] = rec[\"cron\"][\"completed_date\"]     # Is it correct?\n",
    "    resource2add[\"dateCreated\"] = rec[\"metadata_created\"]\n",
    "    resource2add[\"dateModified\"] = rec[\"metadata_modified\"]\n",
    "    resource2add[\"contentSize\"] = resource2add.pop(\"size\")\n",
    "    resource2add[\"encodingFormat\"] = resource2add.pop(\"format\")\n",
    "    if geolocation is not None:\n",
    "        resource2add[\"location\"] = geolocation\n",
    "    if temporal_coverage is not None:\n",
    "        resource2add[\"temporalCoverage\"] = temporal_coverage\n",
    "    \n",
    "    ## properties we remove because we do not know where to fit them\n",
    "    resource2add.pop(\"filename\")   # was put in \"name\"\n",
    "    resource2add.pop(\"fixity\") # Checksum?\n",
    "    resource2add.pop(\"s3_url\")  # may be ut in different distribution but only valid for datasets and not files\n",
    "    print(\"properties = \", resource2add)\n",
    "    resource = crate.add_file(url, fetch_remote = False, properties=resource2add)"
   ]
  },
  {
   "cell_type": "markdown",
   "id": "dc365352-e78d-4f9a-85fd-b1f093b5f5b2",
   "metadata": {},
   "source": [
    "## Add metadata to RO\n",
    "\n",
    "### Add the title and description"
   ]
  },
  {
   "cell_type": "code",
   "execution_count": null,
   "id": "e0b68bbc-23a8-477f-9d86-646ac8cc1220",
   "metadata": {},
   "outputs": [],
   "source": [
    "title = rec.pop(\"title\")\n",
    "description = rec.pop(\"notes\")\n",
    "crate.update_jsonld({\n",
    "    \"@id\": \"./\",\n",
    "    \"description\": description,\n",
    "    \"title\": title,\n",
    "    \"name\": title,\n",
    "})"
   ]
  },
  {
   "cell_type": "markdown",
   "id": "14fb8d03-43ef-468c-8b0e-180fa2b932b4",
   "metadata": {},
   "source": [
    "### Add the publisher and creator"
   ]
  },
  {
   "cell_type": "code",
   "execution_count": null,
   "id": "78144e35-e155-4da8-8c80-37529a667bc8",
   "metadata": {},
   "outputs": [],
   "source": [
    "publisher_name = rec.pop(\"publisher\")  ## WEIRD! \n",
    "publisher_name = \"Sigma2 AS\"\n",
    "publisher_url = \"https://www.wikidata.org/wiki/Q12008197\"\n",
    "publisher = {\n",
    "                \"@id\": publisher_url,\n",
    "                \"@type\": \"Organization\",\n",
    "                \"name\": publisher_name,\n",
    "                \"url\": publisher_url\n",
    "                }\n",
    "crate.add_jsonld(publisher)\n",
    "crate.update_jsonld(\n",
    "{\n",
    "    \"@id\": \"./\",\n",
    "    \"publisher\": { \"@id\": publisher_url },\n",
    "})"
   ]
  },
  {
   "cell_type": "markdown",
   "id": "64e4f181-8916-44fc-bf5c-9cb44a438e5a",
   "metadata": {},
   "source": [
    "### Add the creator of the RO-Crate"
   ]
  },
  {
   "cell_type": "code",
   "execution_count": null,
   "id": "42a366f5-a8be-4879-94e6-1b552f0ad1ae",
   "metadata": {},
   "outputs": [],
   "source": [
    "crate.update_jsonld(\n",
    "{\n",
    "    \"@id\": \"ro-crate-metadata.json\",\n",
    "    \"creator\": { \"@id\": publisher_url },\n",
    "})"
   ]
  },
  {
   "cell_type": "markdown",
   "id": "8a7a26ed-00c1-4ee5-b662-515a60e41166",
   "metadata": {},
   "source": [
    "### Add Publication date"
   ]
  },
  {
   "cell_type": "code",
   "execution_count": null,
   "id": "5dea564e-f752-49c4-9e7b-72dda72977c5",
   "metadata": {},
   "outputs": [],
   "source": [
    "date_published =  datetime.strptime(rec.pop(\"release_date\"), '%Y-%m-%dT%H:%M:%S.%f')\n",
    "\n",
    "crate.update_jsonld({\n",
    "    \"@id\": \"./\",\n",
    "    \"datePublished\":  date_published.strftime(\"%Y-%m-%d\") ,\n",
    "})"
   ]
  },
  {
   "cell_type": "markdown",
   "id": "bdf6caf3-1a5d-4670-af82-7942c2759d98",
   "metadata": {},
   "source": [
    "### Add citation"
   ]
  },
  {
   "cell_type": "code",
   "execution_count": null,
   "id": "ed4d2062-cf55-4fe9-a550-e621860855d5",
   "metadata": {},
   "outputs": [],
   "source": [
    "doi = \"https://doi.org/\" + rec.pop(\"doi\")\n",
    "cite_as = \" and \".join(list_authors) + \", \" + title + \", \" + publisher_name + \", \" + date_published.strftime(\"%Y\") + \". \" +  doi + \".\"\n",
    "\n",
    "crate.update_jsonld({\n",
    "    \"@id\": \"./\",\n",
    "    \"identifier\": doi,\n",
    "    \"url\": doi,\n",
    "    \"cite-as\":  cite_as ,\n",
    "})\n"
   ]
  },
  {
   "cell_type": "markdown",
   "id": "f34d561f-0692-4470-a282-1a7d96386da3",
   "metadata": {},
   "source": [
    "### Add studySubject, keywords, etc."
   ]
  },
  {
   "cell_type": "code",
   "execution_count": null,
   "id": "624f68ca-31bd-4fcf-a7ea-e118333d0a6e",
   "metadata": {},
   "outputs": [],
   "source": [
    "def find_subject(subject, groups):\n",
    "    for group in groups:\n",
    "        if subject == group[\"id\"]:\n",
    "            return group\n",
    "    return None"
   ]
  },
  {
   "cell_type": "code",
   "execution_count": null,
   "id": "ab8e7036-78dd-4cb7-b1b1-380badc155f3",
   "metadata": {},
   "outputs": [],
   "source": [
    "study_subjects = []\n",
    "for subject in rec[\"subject\"]:\n",
    "    info_on_subject = find_subject(subject, rec[\"groups\"])     \n",
    "    study_subjects.append({\n",
    "         \"@id\": \"http://inspire.ec.europa.eu/metadata-codelist/TopicCategory/\" + info_on_subject[\"name\"]\n",
    "    })"
   ]
  },
  {
   "cell_type": "code",
   "execution_count": null,
   "id": "c4195737-95cf-4bc0-b9fa-ed75dac9ceed",
   "metadata": {},
   "outputs": [],
   "source": []
  },
  {
   "cell_type": "code",
   "execution_count": null,
   "id": "15fbb73a-bd36-4178-a09a-884007c83a78",
   "metadata": {},
   "outputs": [],
   "source": [
    "keywords = []\n",
    "for tag in rec[\"tags\"]:\n",
    "    keywords.append(tag[\"display_name\"])\n",
    "    \n",
    "keywords = \", \".join(keywords)\n",
    "\n",
    "crate.update_jsonld({\n",
    "    \"@id\": \"./\",\n",
    "    \"about\": study_subjects,\n",
    "    \"keywords\":  keywords,\n",
    "})"
   ]
  },
  {
   "cell_type": "markdown",
   "id": "ff473b0b-f643-49ce-bd7f-38bab4423034",
   "metadata": {},
   "source": [
    "### Add version"
   ]
  },
  {
   "cell_type": "code",
   "execution_count": null,
   "id": "8af264c8-20f8-44b0-b3de-ee21ad8f3ac8",
   "metadata": {},
   "outputs": [],
   "source": [
    "crate.update_jsonld({\n",
    "    \"@id\": \"./\",\n",
    "    \"version\": rec[\"version\"],\n",
    "})"
   ]
  },
  {
   "cell_type": "markdown",
   "id": "b7d19574-c98d-4ba2-8b97-205aee76630a",
   "metadata": {},
   "source": [
    "### Add Language"
   ]
  },
  {
   "cell_type": "code",
   "execution_count": null,
   "id": "c2a43b07-98a7-4c11-8978-43b4e145e3b2",
   "metadata": {},
   "outputs": [],
   "source": [
    "#crate.update_jsonld({\n",
    "#    \"@id\": ,\n",
    "#    \"@type\": \"Language\",\n",
    "#})"
   ]
  },
  {
   "cell_type": "code",
   "execution_count": null,
   "id": "2478bd4e-b91c-468c-80ed-cee6a657b43b",
   "metadata": {},
   "outputs": [],
   "source": [
    "rec.keys()"
   ]
  },
  {
   "cell_type": "code",
   "execution_count": null,
   "id": "1d95b398-374f-43dd-803e-8800d61e22f6",
   "metadata": {},
   "outputs": [],
   "source": [
    "rec[\"theme\"]"
   ]
  },
  {
   "cell_type": "markdown",
   "id": "310d83cc-9b3a-4756-8844-90d4934e9068",
   "metadata": {},
   "source": [
    "## Write to disk"
   ]
  },
  {
   "cell_type": "code",
   "execution_count": null,
   "id": "5436ef67-3b3c-4cc9-9f75-803da492e984",
   "metadata": {},
   "outputs": [],
   "source": [
    "crate.write(\"ro-crate\")"
   ]
  },
  {
   "cell_type": "code",
   "execution_count": null,
   "id": "5d418015-8725-41de-8adb-954aec57f34c",
   "metadata": {},
   "outputs": [],
   "source": [
    "from rocrateValidator import validate as validate"
   ]
  },
  {
   "cell_type": "code",
   "execution_count": null,
   "id": "6a86fd4b-6482-4640-8844-425e81e5a07b",
   "metadata": {},
   "outputs": [],
   "source": [
    "v = validate.validate(\"ro-crate\")\n",
    "v.validator()"
   ]
  },
  {
   "cell_type": "code",
   "execution_count": null,
   "id": "640e656d-42e2-49be-b8b9-113b5b582845",
   "metadata": {},
   "outputs": [],
   "source": []
  }
 ],
 "metadata": {
  "kernelspec": {
   "display_name": "Python 3 (ipykernel)",
   "language": "python",
   "name": "python3"
  },
  "language_info": {
   "codemirror_mode": {
    "name": "ipython",
    "version": 3
   },
   "file_extension": ".py",
   "mimetype": "text/x-python",
   "name": "python",
   "nbconvert_exporter": "python",
   "pygments_lexer": "ipython3",
   "version": "3.12.5"
  },
  "widgets": {
   "application/vnd.jupyter.widget-state+json": {
    "state": {},
    "version_major": 2,
    "version_minor": 0
   }
  }
 },
 "nbformat": 4,
 "nbformat_minor": 5
}
