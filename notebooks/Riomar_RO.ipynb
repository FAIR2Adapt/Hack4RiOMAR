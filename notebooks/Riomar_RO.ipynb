{
 "cells": [
  {
   "cell_type": "markdown",
   "id": "7e8c941f-784b-46a4-b596-bd0ee3c140a4",
   "metadata": {},
   "source": [
    "# Create RO-Crate from RiOMar dataset\n",
    "\n",
    "\n",
    "## Context\n",
    "\n",
    "### Purpose\n",
    "\n",
    "We are showing how to create a RO-Crate for a dataset using the `rocrate` python library. This is a simple example with no specific RO-Crate profile. It follows RO-Crate v 1.1 specification.\n",
    "\n",
    "- **Standardized Metadata Packaging**: RO-Crates provide a standardized way to bundle datasets with rich metadata, making it easier to understand, share, and reuse the data.\n",
    "- **Enhanced FAIRness**: By including machine-readable metadata, RO-Crates improve the Findability, Accessibility, Interoperability, and Reusability (FAIR) of the dataset.\n",
    "- **Improved Discoverability**: Metadata in an RO-Crate allows datasets to be easily indexed and discovered through search engines and data repositories.\n",
    "- **Documentation and Provenance**: RO-Crates document essential information about the dataset, such as its source, authorship, and creation process, ensuring transparency and traceability.\n",
    "- **Facilitates Integration**: The structured metadata makes it easier to integrate the dataset with other tools, workflows, or datasets, enhancing its usability.\n",
    "- **Compliance with Standards**: Many funding agencies and journals now require datasets to be published with detailed metadata. RO-Crates align with these expectations and promote best practices in data management.\n",
    "\n",
    "\n",
    "### Description\n",
    "\n",
    "In this notebook, we will learn how to create a simple RO-Crate from the RiOMar data. We will then identify any missing metadata that needs to be added to the original dataset's metadata.\n",
    "\n",
    "## Contributions\n",
    "\n",
    "### Notebook\n",
    "\n",
    "- Anne Fouilloux (author), Simula Research Laboratory (Norway), @annefou\n",
    "- XX (reviewer)\n",
    "\n",
    "## Biblipgraphy and other interesting resources\n",
    "\n",
    "- [rocrate](https://pypi.org/project/rocrate/) Python package\n",
    "- [Research Object documentation](https://www.researchobject.org)"
   ]
  },
  {
   "cell_type": "markdown",
   "id": "2b875a8b-74b1-4e5e-9448-7045d0494358",
   "metadata": {},
   "source": [
    "## Install and Import libraries"
   ]
  },
  {
   "cell_type": "code",
   "execution_count": 42,
   "id": "0b1dff75-a254-4eae-9d03-fc4b01838052",
   "metadata": {},
   "outputs": [
    {
     "name": "stdout",
     "output_type": "stream",
     "text": [
      "Requirement already satisfied: rocrate in /srv/conda/envs/notebook/lib/python3.12/site-packages (0.13.0)\n",
      "Collecting rocrateValidator\n",
      "  Downloading rocrateValidator-0.2.15-py3-none-any.whl.metadata (228 bytes)\n",
      "Requirement already satisfied: requests in /srv/conda/envs/notebook/lib/python3.12/site-packages (from rocrate) (2.32.3)\n",
      "Requirement already satisfied: arcp==0.2.1 in /srv/conda/envs/notebook/lib/python3.12/site-packages (from rocrate) (0.2.1)\n",
      "Requirement already satisfied: jinja2 in /srv/conda/envs/notebook/lib/python3.12/site-packages (from rocrate) (3.1.4)\n",
      "Requirement already satisfied: python-dateutil in /srv/conda/envs/notebook/lib/python3.12/site-packages (from rocrate) (2.8.2)\n",
      "Requirement already satisfied: click in /srv/conda/envs/notebook/lib/python3.12/site-packages (from rocrate) (8.1.7)\n",
      "Requirement already satisfied: MarkupSafe>=2.0 in /srv/conda/envs/notebook/lib/python3.12/site-packages (from jinja2->rocrate) (2.1.5)\n",
      "Requirement already satisfied: six>=1.5 in /srv/conda/envs/notebook/lib/python3.12/site-packages (from python-dateutil->rocrate) (1.16.0)\n",
      "Requirement already satisfied: charset-normalizer<4,>=2 in /srv/conda/envs/notebook/lib/python3.12/site-packages (from requests->rocrate) (3.3.2)\n",
      "Requirement already satisfied: idna<4,>=2.5 in /srv/conda/envs/notebook/lib/python3.12/site-packages (from requests->rocrate) (3.7)\n",
      "Requirement already satisfied: urllib3<3,>=1.21.1 in /srv/conda/envs/notebook/lib/python3.12/site-packages (from requests->rocrate) (1.26.19)\n",
      "Requirement already satisfied: certifi>=2017.4.17 in /srv/conda/envs/notebook/lib/python3.12/site-packages (from requests->rocrate) (2024.7.4)\n",
      "Downloading rocrateValidator-0.2.15-py3-none-any.whl (11 kB)\n",
      "Installing collected packages: rocrateValidator\n",
      "Successfully installed rocrateValidator-0.2.15\n",
      "Note: you may need to restart the kernel to use updated packages.\n"
     ]
    }
   ],
   "source": [
    "pip install rocrate rocrateValidator"
   ]
  },
  {
   "cell_type": "code",
   "execution_count": 2,
   "id": "982e2483-b0b5-4fe7-b9e4-47be7fcb83f0",
   "metadata": {},
   "outputs": [],
   "source": [
    "import requests\n",
    "import json\n",
    "from rocrate.rocrate import ROCrate\n",
    "from rocrate.model.person import Person\n",
    "import pandas as pd\n",
    "from datetime import datetime\n",
    "import geopandas\n",
    "import shapely\n",
    "import xarray as xr\n",
    "import numpy as np\n",
    "import s3fs"
   ]
  },
  {
   "cell_type": "markdown",
   "id": "0631c4e0-0e5c-4eb2-a850-44b49fa0c084",
   "metadata": {},
   "source": [
    "## Open RiOMar data to get metadata"
   ]
  },
  {
   "cell_type": "code",
   "execution_count": 3,
   "id": "26d6ed4e-49bb-40c6-ae00-0b7009c7be31",
   "metadata": {},
   "outputs": [],
   "source": [
    "url_data = \"https://data-fair2adapt.ifremer.fr/riomar/small.zarr\""
   ]
  },
  {
   "cell_type": "code",
   "execution_count": 4,
   "id": "5b48eb64-383b-4eae-b3dd-812eb5c469c2",
   "metadata": {},
   "outputs": [
    {
     "data": {
      "text/html": [
       "<div><svg style=\"position: absolute; width: 0; height: 0; overflow: hidden\">\n",
       "<defs>\n",
       "<symbol id=\"icon-database\" viewBox=\"0 0 32 32\">\n",
       "<path d=\"M16 0c-8.837 0-16 2.239-16 5v4c0 2.761 7.163 5 16 5s16-2.239 16-5v-4c0-2.761-7.163-5-16-5z\"></path>\n",
       "<path d=\"M16 17c-8.837 0-16-2.239-16-5v6c0 2.761 7.163 5 16 5s16-2.239 16-5v-6c0 2.761-7.163 5-16 5z\"></path>\n",
       "<path d=\"M16 26c-8.837 0-16-2.239-16-5v6c0 2.761 7.163 5 16 5s16-2.239 16-5v-6c0 2.761-7.163 5-16 5z\"></path>\n",
       "</symbol>\n",
       "<symbol id=\"icon-file-text2\" viewBox=\"0 0 32 32\">\n",
       "<path d=\"M28.681 7.159c-0.694-0.947-1.662-2.053-2.724-3.116s-2.169-2.030-3.116-2.724c-1.612-1.182-2.393-1.319-2.841-1.319h-15.5c-1.378 0-2.5 1.121-2.5 2.5v27c0 1.378 1.122 2.5 2.5 2.5h23c1.378 0 2.5-1.122 2.5-2.5v-19.5c0-0.448-0.137-1.23-1.319-2.841zM24.543 5.457c0.959 0.959 1.712 1.825 2.268 2.543h-4.811v-4.811c0.718 0.556 1.584 1.309 2.543 2.268zM28 29.5c0 0.271-0.229 0.5-0.5 0.5h-23c-0.271 0-0.5-0.229-0.5-0.5v-27c0-0.271 0.229-0.5 0.5-0.5 0 0 15.499-0 15.5 0v7c0 0.552 0.448 1 1 1h7v19.5z\"></path>\n",
       "<path d=\"M23 26h-14c-0.552 0-1-0.448-1-1s0.448-1 1-1h14c0.552 0 1 0.448 1 1s-0.448 1-1 1z\"></path>\n",
       "<path d=\"M23 22h-14c-0.552 0-1-0.448-1-1s0.448-1 1-1h14c0.552 0 1 0.448 1 1s-0.448 1-1 1z\"></path>\n",
       "<path d=\"M23 18h-14c-0.552 0-1-0.448-1-1s0.448-1 1-1h14c0.552 0 1 0.448 1 1s-0.448 1-1 1z\"></path>\n",
       "</symbol>\n",
       "</defs>\n",
       "</svg>\n",
       "<style>/* CSS stylesheet for displaying xarray objects in jupyterlab.\n",
       " *\n",
       " */\n",
       "\n",
       ":root {\n",
       "  --xr-font-color0: var(--jp-content-font-color0, rgba(0, 0, 0, 1));\n",
       "  --xr-font-color2: var(--jp-content-font-color2, rgba(0, 0, 0, 0.54));\n",
       "  --xr-font-color3: var(--jp-content-font-color3, rgba(0, 0, 0, 0.38));\n",
       "  --xr-border-color: var(--jp-border-color2, #e0e0e0);\n",
       "  --xr-disabled-color: var(--jp-layout-color3, #bdbdbd);\n",
       "  --xr-background-color: var(--jp-layout-color0, white);\n",
       "  --xr-background-color-row-even: var(--jp-layout-color1, white);\n",
       "  --xr-background-color-row-odd: var(--jp-layout-color2, #eeeeee);\n",
       "}\n",
       "\n",
       "html[theme=dark],\n",
       "html[data-theme=dark],\n",
       "body[data-theme=dark],\n",
       "body.vscode-dark {\n",
       "  --xr-font-color0: rgba(255, 255, 255, 1);\n",
       "  --xr-font-color2: rgba(255, 255, 255, 0.54);\n",
       "  --xr-font-color3: rgba(255, 255, 255, 0.38);\n",
       "  --xr-border-color: #1F1F1F;\n",
       "  --xr-disabled-color: #515151;\n",
       "  --xr-background-color: #111111;\n",
       "  --xr-background-color-row-even: #111111;\n",
       "  --xr-background-color-row-odd: #313131;\n",
       "}\n",
       "\n",
       ".xr-wrap {\n",
       "  display: block !important;\n",
       "  min-width: 300px;\n",
       "  max-width: 700px;\n",
       "}\n",
       "\n",
       ".xr-text-repr-fallback {\n",
       "  /* fallback to plain text repr when CSS is not injected (untrusted notebook) */\n",
       "  display: none;\n",
       "}\n",
       "\n",
       ".xr-header {\n",
       "  padding-top: 6px;\n",
       "  padding-bottom: 6px;\n",
       "  margin-bottom: 4px;\n",
       "  border-bottom: solid 1px var(--xr-border-color);\n",
       "}\n",
       "\n",
       ".xr-header > div,\n",
       ".xr-header > ul {\n",
       "  display: inline;\n",
       "  margin-top: 0;\n",
       "  margin-bottom: 0;\n",
       "}\n",
       "\n",
       ".xr-obj-type,\n",
       ".xr-array-name {\n",
       "  margin-left: 2px;\n",
       "  margin-right: 10px;\n",
       "}\n",
       "\n",
       ".xr-obj-type {\n",
       "  color: var(--xr-font-color2);\n",
       "}\n",
       "\n",
       ".xr-sections {\n",
       "  padding-left: 0 !important;\n",
       "  display: grid;\n",
       "  grid-template-columns: 150px auto auto 1fr 20px 20px;\n",
       "}\n",
       "\n",
       ".xr-section-item {\n",
       "  display: contents;\n",
       "}\n",
       "\n",
       ".xr-section-item input {\n",
       "  display: none;\n",
       "}\n",
       "\n",
       ".xr-section-item input + label {\n",
       "  color: var(--xr-disabled-color);\n",
       "}\n",
       "\n",
       ".xr-section-item input:enabled + label {\n",
       "  cursor: pointer;\n",
       "  color: var(--xr-font-color2);\n",
       "}\n",
       "\n",
       ".xr-section-item input:enabled + label:hover {\n",
       "  color: var(--xr-font-color0);\n",
       "}\n",
       "\n",
       ".xr-section-summary {\n",
       "  grid-column: 1;\n",
       "  color: var(--xr-font-color2);\n",
       "  font-weight: 500;\n",
       "}\n",
       "\n",
       ".xr-section-summary > span {\n",
       "  display: inline-block;\n",
       "  padding-left: 0.5em;\n",
       "}\n",
       "\n",
       ".xr-section-summary-in:disabled + label {\n",
       "  color: var(--xr-font-color2);\n",
       "}\n",
       "\n",
       ".xr-section-summary-in + label:before {\n",
       "  display: inline-block;\n",
       "  content: '►';\n",
       "  font-size: 11px;\n",
       "  width: 15px;\n",
       "  text-align: center;\n",
       "}\n",
       "\n",
       ".xr-section-summary-in:disabled + label:before {\n",
       "  color: var(--xr-disabled-color);\n",
       "}\n",
       "\n",
       ".xr-section-summary-in:checked + label:before {\n",
       "  content: '▼';\n",
       "}\n",
       "\n",
       ".xr-section-summary-in:checked + label > span {\n",
       "  display: none;\n",
       "}\n",
       "\n",
       ".xr-section-summary,\n",
       ".xr-section-inline-details {\n",
       "  padding-top: 4px;\n",
       "  padding-bottom: 4px;\n",
       "}\n",
       "\n",
       ".xr-section-inline-details {\n",
       "  grid-column: 2 / -1;\n",
       "}\n",
       "\n",
       ".xr-section-details {\n",
       "  display: none;\n",
       "  grid-column: 1 / -1;\n",
       "  margin-bottom: 5px;\n",
       "}\n",
       "\n",
       ".xr-section-summary-in:checked ~ .xr-section-details {\n",
       "  display: contents;\n",
       "}\n",
       "\n",
       ".xr-array-wrap {\n",
       "  grid-column: 1 / -1;\n",
       "  display: grid;\n",
       "  grid-template-columns: 20px auto;\n",
       "}\n",
       "\n",
       ".xr-array-wrap > label {\n",
       "  grid-column: 1;\n",
       "  vertical-align: top;\n",
       "}\n",
       "\n",
       ".xr-preview {\n",
       "  color: var(--xr-font-color3);\n",
       "}\n",
       "\n",
       ".xr-array-preview,\n",
       ".xr-array-data {\n",
       "  padding: 0 5px !important;\n",
       "  grid-column: 2;\n",
       "}\n",
       "\n",
       ".xr-array-data,\n",
       ".xr-array-in:checked ~ .xr-array-preview {\n",
       "  display: none;\n",
       "}\n",
       "\n",
       ".xr-array-in:checked ~ .xr-array-data,\n",
       ".xr-array-preview {\n",
       "  display: inline-block;\n",
       "}\n",
       "\n",
       ".xr-dim-list {\n",
       "  display: inline-block !important;\n",
       "  list-style: none;\n",
       "  padding: 0 !important;\n",
       "  margin: 0;\n",
       "}\n",
       "\n",
       ".xr-dim-list li {\n",
       "  display: inline-block;\n",
       "  padding: 0;\n",
       "  margin: 0;\n",
       "}\n",
       "\n",
       ".xr-dim-list:before {\n",
       "  content: '(';\n",
       "}\n",
       "\n",
       ".xr-dim-list:after {\n",
       "  content: ')';\n",
       "}\n",
       "\n",
       ".xr-dim-list li:not(:last-child):after {\n",
       "  content: ',';\n",
       "  padding-right: 5px;\n",
       "}\n",
       "\n",
       ".xr-has-index {\n",
       "  font-weight: bold;\n",
       "}\n",
       "\n",
       ".xr-var-list,\n",
       ".xr-var-item {\n",
       "  display: contents;\n",
       "}\n",
       "\n",
       ".xr-var-item > div,\n",
       ".xr-var-item label,\n",
       ".xr-var-item > .xr-var-name span {\n",
       "  background-color: var(--xr-background-color-row-even);\n",
       "  margin-bottom: 0;\n",
       "}\n",
       "\n",
       ".xr-var-item > .xr-var-name:hover span {\n",
       "  padding-right: 5px;\n",
       "}\n",
       "\n",
       ".xr-var-list > li:nth-child(odd) > div,\n",
       ".xr-var-list > li:nth-child(odd) > label,\n",
       ".xr-var-list > li:nth-child(odd) > .xr-var-name span {\n",
       "  background-color: var(--xr-background-color-row-odd);\n",
       "}\n",
       "\n",
       ".xr-var-name {\n",
       "  grid-column: 1;\n",
       "}\n",
       "\n",
       ".xr-var-dims {\n",
       "  grid-column: 2;\n",
       "}\n",
       "\n",
       ".xr-var-dtype {\n",
       "  grid-column: 3;\n",
       "  text-align: right;\n",
       "  color: var(--xr-font-color2);\n",
       "}\n",
       "\n",
       ".xr-var-preview {\n",
       "  grid-column: 4;\n",
       "}\n",
       "\n",
       ".xr-index-preview {\n",
       "  grid-column: 2 / 5;\n",
       "  color: var(--xr-font-color2);\n",
       "}\n",
       "\n",
       ".xr-var-name,\n",
       ".xr-var-dims,\n",
       ".xr-var-dtype,\n",
       ".xr-preview,\n",
       ".xr-attrs dt {\n",
       "  white-space: nowrap;\n",
       "  overflow: hidden;\n",
       "  text-overflow: ellipsis;\n",
       "  padding-right: 10px;\n",
       "}\n",
       "\n",
       ".xr-var-name:hover,\n",
       ".xr-var-dims:hover,\n",
       ".xr-var-dtype:hover,\n",
       ".xr-attrs dt:hover {\n",
       "  overflow: visible;\n",
       "  width: auto;\n",
       "  z-index: 1;\n",
       "}\n",
       "\n",
       ".xr-var-attrs,\n",
       ".xr-var-data,\n",
       ".xr-index-data {\n",
       "  display: none;\n",
       "  background-color: var(--xr-background-color) !important;\n",
       "  padding-bottom: 5px !important;\n",
       "}\n",
       "\n",
       ".xr-var-attrs-in:checked ~ .xr-var-attrs,\n",
       ".xr-var-data-in:checked ~ .xr-var-data,\n",
       ".xr-index-data-in:checked ~ .xr-index-data {\n",
       "  display: block;\n",
       "}\n",
       "\n",
       ".xr-var-data > table {\n",
       "  float: right;\n",
       "}\n",
       "\n",
       ".xr-var-name span,\n",
       ".xr-var-data,\n",
       ".xr-index-name div,\n",
       ".xr-index-data,\n",
       ".xr-attrs {\n",
       "  padding-left: 25px !important;\n",
       "}\n",
       "\n",
       ".xr-attrs,\n",
       ".xr-var-attrs,\n",
       ".xr-var-data,\n",
       ".xr-index-data {\n",
       "  grid-column: 1 / -1;\n",
       "}\n",
       "\n",
       "dl.xr-attrs {\n",
       "  padding: 0;\n",
       "  margin: 0;\n",
       "  display: grid;\n",
       "  grid-template-columns: 125px auto;\n",
       "}\n",
       "\n",
       ".xr-attrs dt,\n",
       ".xr-attrs dd {\n",
       "  padding: 0;\n",
       "  margin: 0;\n",
       "  float: left;\n",
       "  padding-right: 10px;\n",
       "  width: auto;\n",
       "}\n",
       "\n",
       ".xr-attrs dt {\n",
       "  font-weight: normal;\n",
       "  grid-column: 1;\n",
       "}\n",
       "\n",
       ".xr-attrs dt:hover span {\n",
       "  display: inline-block;\n",
       "  background: var(--xr-background-color);\n",
       "  padding-right: 10px;\n",
       "}\n",
       "\n",
       ".xr-attrs dd {\n",
       "  grid-column: 2;\n",
       "  white-space: pre-wrap;\n",
       "  word-break: break-all;\n",
       "}\n",
       "\n",
       ".xr-icon-database,\n",
       ".xr-icon-file-text2,\n",
       ".xr-no-icon {\n",
       "  display: inline-block;\n",
       "  vertical-align: middle;\n",
       "  width: 1em;\n",
       "  height: 1.5em !important;\n",
       "  stroke-width: 0;\n",
       "  stroke: currentColor;\n",
       "  fill: currentColor;\n",
       "}\n",
       "</style><pre class='xr-text-repr-fallback'>&lt;xarray.Dataset&gt; Size: 498MB\n",
       "Dimensions:       (y_rho: 838, x_rho: 727, s_rho: 40, time_counter: 5)\n",
       "Coordinates:\n",
       "    nav_lat_rho   (y_rho, x_rho) float64 5MB dask.array&lt;chunksize=(838, 727), meta=np.ndarray&gt;\n",
       "    nav_lon_rho   (y_rho, x_rho) float64 5MB dask.array&lt;chunksize=(838, 727), meta=np.ndarray&gt;\n",
       "  * s_rho         (s_rho) float32 160B -0.9875 -0.9625 ... -0.0375 -0.0125\n",
       "  * time_counter  (time_counter) datetime64[ns] 40B 2004-01-01T00:58:30 ... 2...\n",
       "    time_instant  (time_counter) datetime64[ns] 40B dask.array&lt;chunksize=(1,), meta=np.ndarray&gt;\n",
       "Dimensions without coordinates: y_rho, x_rho\n",
       "Data variables:\n",
       "    ocean_mask    (y_rho, x_rho) bool 609kB dask.array&lt;chunksize=(838, 727), meta=np.ndarray&gt;\n",
       "    temp          (time_counter, s_rho, y_rho, x_rho) float32 487MB dask.array&lt;chunksize=(1, 40, 838, 727), meta=np.ndarray&gt;\n",
       "Attributes: (12/45)\n",
       "    CPP-options:    REGIONAL GAMAR MPI TIDES OBC_WEST OBC_NORTH XIOS USE_CALE...\n",
       "    Conventions:    CF-1.6\n",
       "    Cs_r:           have a look at variable Cs_r in this file\n",
       "    Cs_w:           have a look at variable Cs_w in this file\n",
       "    SRCS:           main.F step.F read_inp.F timers_roms.F init_scalars.F ini...\n",
       "    Tcline:         15.0\n",
       "    ...             ...\n",
       "    title:          GAMAR_GLORYS\n",
       "    tnu4_expl:      biharmonic mixing coefficient for tracers\n",
       "    units:          meter4 second-1\n",
       "    uuid:           06f6b784-fcc0-4422-aceb-17da2a5aa9fa\n",
       "    v_sponge:       0.0\n",
       "    x_sponge:       0.0</pre><div class='xr-wrap' style='display:none'><div class='xr-header'><div class='xr-obj-type'>xarray.Dataset</div></div><ul class='xr-sections'><li class='xr-section-item'><input id='section-e1302af9-c3e2-4fa1-9cfc-b1c09984d042' class='xr-section-summary-in' type='checkbox' disabled ><label for='section-e1302af9-c3e2-4fa1-9cfc-b1c09984d042' class='xr-section-summary'  title='Expand/collapse section'>Dimensions:</label><div class='xr-section-inline-details'><ul class='xr-dim-list'><li><span>y_rho</span>: 838</li><li><span>x_rho</span>: 727</li><li><span class='xr-has-index'>s_rho</span>: 40</li><li><span class='xr-has-index'>time_counter</span>: 5</li></ul></div><div class='xr-section-details'></div></li><li class='xr-section-item'><input id='section-0d859716-7d68-4cda-ab93-4d795c71fed6' class='xr-section-summary-in' type='checkbox'  checked><label for='section-0d859716-7d68-4cda-ab93-4d795c71fed6' class='xr-section-summary' >Coordinates: <span>(5)</span></label><div class='xr-section-inline-details'></div><div class='xr-section-details'><ul class='xr-var-list'><li class='xr-var-item'><div class='xr-var-name'><span>nav_lat_rho</span></div><div class='xr-var-dims'>(y_rho, x_rho)</div><div class='xr-var-dtype'>float64</div><div class='xr-var-preview xr-preview'>dask.array&lt;chunksize=(838, 727), meta=np.ndarray&gt;</div><input id='attrs-8c95e438-85a1-4741-a43e-677ada7f2497' class='xr-var-attrs-in' type='checkbox' disabled><label for='attrs-8c95e438-85a1-4741-a43e-677ada7f2497' title='Show/Hide attributes'><svg class='icon xr-icon-file-text2'><use xlink:href='#icon-file-text2'></use></svg></label><input id='data-369b73ba-585e-4a2e-ad20-b46bc8f15cb1' class='xr-var-data-in' type='checkbox'><label for='data-369b73ba-585e-4a2e-ad20-b46bc8f15cb1' title='Show/Hide data repr'><svg class='icon xr-icon-database'><use xlink:href='#icon-database'></use></svg></label><div class='xr-var-attrs'><dl class='xr-attrs'></dl></div><div class='xr-var-data'><table>\n",
       "    <tr>\n",
       "        <td>\n",
       "            <table style=\"border-collapse: collapse;\">\n",
       "                <thead>\n",
       "                    <tr>\n",
       "                        <td> </td>\n",
       "                        <th> Array </th>\n",
       "                        <th> Chunk </th>\n",
       "                    </tr>\n",
       "                </thead>\n",
       "                <tbody>\n",
       "                    \n",
       "                    <tr>\n",
       "                        <th> Bytes </th>\n",
       "                        <td> 4.65 MiB </td>\n",
       "                        <td> 4.65 MiB </td>\n",
       "                    </tr>\n",
       "                    \n",
       "                    <tr>\n",
       "                        <th> Shape </th>\n",
       "                        <td> (838, 727) </td>\n",
       "                        <td> (838, 727) </td>\n",
       "                    </tr>\n",
       "                    <tr>\n",
       "                        <th> Dask graph </th>\n",
       "                        <td colspan=\"2\"> 1 chunks in 2 graph layers </td>\n",
       "                    </tr>\n",
       "                    <tr>\n",
       "                        <th> Data type </th>\n",
       "                        <td colspan=\"2\"> float64 numpy.ndarray </td>\n",
       "                    </tr>\n",
       "                </tbody>\n",
       "            </table>\n",
       "        </td>\n",
       "        <td>\n",
       "        <svg width=\"154\" height=\"170\" style=\"stroke:rgb(0,0,0);stroke-width:1\" >\n",
       "\n",
       "  <!-- Horizontal lines -->\n",
       "  <line x1=\"0\" y1=\"0\" x2=\"104\" y2=\"0\" style=\"stroke-width:2\" />\n",
       "  <line x1=\"0\" y1=\"120\" x2=\"104\" y2=\"120\" style=\"stroke-width:2\" />\n",
       "\n",
       "  <!-- Vertical lines -->\n",
       "  <line x1=\"0\" y1=\"0\" x2=\"0\" y2=\"120\" style=\"stroke-width:2\" />\n",
       "  <line x1=\"104\" y1=\"0\" x2=\"104\" y2=\"120\" style=\"stroke-width:2\" />\n",
       "\n",
       "  <!-- Colored Rectangle -->\n",
       "  <polygon points=\"0.0,0.0 104.10501193317423,0.0 104.10501193317423,120.0 0.0,120.0\" style=\"fill:#ECB172A0;stroke-width:0\"/>\n",
       "\n",
       "  <!-- Text -->\n",
       "  <text x=\"52.052506\" y=\"140.000000\" font-size=\"1.0rem\" font-weight=\"100\" text-anchor=\"middle\" >727</text>\n",
       "  <text x=\"124.105012\" y=\"60.000000\" font-size=\"1.0rem\" font-weight=\"100\" text-anchor=\"middle\" transform=\"rotate(-90,124.105012,60.000000)\">838</text>\n",
       "</svg>\n",
       "        </td>\n",
       "    </tr>\n",
       "</table></div></li><li class='xr-var-item'><div class='xr-var-name'><span>nav_lon_rho</span></div><div class='xr-var-dims'>(y_rho, x_rho)</div><div class='xr-var-dtype'>float64</div><div class='xr-var-preview xr-preview'>dask.array&lt;chunksize=(838, 727), meta=np.ndarray&gt;</div><input id='attrs-5b1b7226-7861-4136-8b95-4096ad67d716' class='xr-var-attrs-in' type='checkbox' disabled><label for='attrs-5b1b7226-7861-4136-8b95-4096ad67d716' title='Show/Hide attributes'><svg class='icon xr-icon-file-text2'><use xlink:href='#icon-file-text2'></use></svg></label><input id='data-9351db82-afe0-466c-a47d-3d12ca4deb4b' class='xr-var-data-in' type='checkbox'><label for='data-9351db82-afe0-466c-a47d-3d12ca4deb4b' title='Show/Hide data repr'><svg class='icon xr-icon-database'><use xlink:href='#icon-database'></use></svg></label><div class='xr-var-attrs'><dl class='xr-attrs'></dl></div><div class='xr-var-data'><table>\n",
       "    <tr>\n",
       "        <td>\n",
       "            <table style=\"border-collapse: collapse;\">\n",
       "                <thead>\n",
       "                    <tr>\n",
       "                        <td> </td>\n",
       "                        <th> Array </th>\n",
       "                        <th> Chunk </th>\n",
       "                    </tr>\n",
       "                </thead>\n",
       "                <tbody>\n",
       "                    \n",
       "                    <tr>\n",
       "                        <th> Bytes </th>\n",
       "                        <td> 4.65 MiB </td>\n",
       "                        <td> 4.65 MiB </td>\n",
       "                    </tr>\n",
       "                    \n",
       "                    <tr>\n",
       "                        <th> Shape </th>\n",
       "                        <td> (838, 727) </td>\n",
       "                        <td> (838, 727) </td>\n",
       "                    </tr>\n",
       "                    <tr>\n",
       "                        <th> Dask graph </th>\n",
       "                        <td colspan=\"2\"> 1 chunks in 2 graph layers </td>\n",
       "                    </tr>\n",
       "                    <tr>\n",
       "                        <th> Data type </th>\n",
       "                        <td colspan=\"2\"> float64 numpy.ndarray </td>\n",
       "                    </tr>\n",
       "                </tbody>\n",
       "            </table>\n",
       "        </td>\n",
       "        <td>\n",
       "        <svg width=\"154\" height=\"170\" style=\"stroke:rgb(0,0,0);stroke-width:1\" >\n",
       "\n",
       "  <!-- Horizontal lines -->\n",
       "  <line x1=\"0\" y1=\"0\" x2=\"104\" y2=\"0\" style=\"stroke-width:2\" />\n",
       "  <line x1=\"0\" y1=\"120\" x2=\"104\" y2=\"120\" style=\"stroke-width:2\" />\n",
       "\n",
       "  <!-- Vertical lines -->\n",
       "  <line x1=\"0\" y1=\"0\" x2=\"0\" y2=\"120\" style=\"stroke-width:2\" />\n",
       "  <line x1=\"104\" y1=\"0\" x2=\"104\" y2=\"120\" style=\"stroke-width:2\" />\n",
       "\n",
       "  <!-- Colored Rectangle -->\n",
       "  <polygon points=\"0.0,0.0 104.10501193317423,0.0 104.10501193317423,120.0 0.0,120.0\" style=\"fill:#ECB172A0;stroke-width:0\"/>\n",
       "\n",
       "  <!-- Text -->\n",
       "  <text x=\"52.052506\" y=\"140.000000\" font-size=\"1.0rem\" font-weight=\"100\" text-anchor=\"middle\" >727</text>\n",
       "  <text x=\"124.105012\" y=\"60.000000\" font-size=\"1.0rem\" font-weight=\"100\" text-anchor=\"middle\" transform=\"rotate(-90,124.105012,60.000000)\">838</text>\n",
       "</svg>\n",
       "        </td>\n",
       "    </tr>\n",
       "</table></div></li><li class='xr-var-item'><div class='xr-var-name'><span class='xr-has-index'>s_rho</span></div><div class='xr-var-dims'>(s_rho)</div><div class='xr-var-dtype'>float32</div><div class='xr-var-preview xr-preview'>-0.9875 -0.9625 ... -0.0375 -0.0125</div><input id='attrs-9d5ab9da-bf83-4bee-ae9b-923c54b76895' class='xr-var-attrs-in' type='checkbox' ><label for='attrs-9d5ab9da-bf83-4bee-ae9b-923c54b76895' title='Show/Hide attributes'><svg class='icon xr-icon-file-text2'><use xlink:href='#icon-file-text2'></use></svg></label><input id='data-a0ae6954-311d-443f-8ea3-88e494b73420' class='xr-var-data-in' type='checkbox'><label for='data-a0ae6954-311d-443f-8ea3-88e494b73420' title='Show/Hide data repr'><svg class='icon xr-icon-database'><use xlink:href='#icon-database'></use></svg></label><div class='xr-var-attrs'><dl class='xr-attrs'><dt><span>name :</span></dt><dd>s_rho</dd></dl></div><div class='xr-var-data'><pre>array([-0.9875, -0.9625, -0.9375, -0.9125, -0.8875, -0.8625, -0.8375, -0.8125,\n",
       "       -0.7875, -0.7625, -0.7375, -0.7125, -0.6875, -0.6625, -0.6375, -0.6125,\n",
       "       -0.5875, -0.5625, -0.5375, -0.5125, -0.4875, -0.4625, -0.4375, -0.4125,\n",
       "       -0.3875, -0.3625, -0.3375, -0.3125, -0.2875, -0.2625, -0.2375, -0.2125,\n",
       "       -0.1875, -0.1625, -0.1375, -0.1125, -0.0875, -0.0625, -0.0375, -0.0125],\n",
       "      dtype=float32)</pre></div></li><li class='xr-var-item'><div class='xr-var-name'><span class='xr-has-index'>time_counter</span></div><div class='xr-var-dims'>(time_counter)</div><div class='xr-var-dtype'>datetime64[ns]</div><div class='xr-var-preview xr-preview'>2004-01-01T00:58:30 ... 2004-01-...</div><input id='attrs-d4aa5a46-59f7-44fa-8ebf-a3368aab9b45' class='xr-var-attrs-in' type='checkbox' ><label for='attrs-d4aa5a46-59f7-44fa-8ebf-a3368aab9b45' title='Show/Hide attributes'><svg class='icon xr-icon-file-text2'><use xlink:href='#icon-file-text2'></use></svg></label><input id='data-503ae7a0-bc09-4819-ae88-03aa4b016410' class='xr-var-data-in' type='checkbox'><label for='data-503ae7a0-bc09-4819-ae88-03aa4b016410' title='Show/Hide data repr'><svg class='icon xr-icon-database'><use xlink:href='#icon-database'></use></svg></label><div class='xr-var-attrs'><dl class='xr-attrs'><dt><span>axis :</span></dt><dd>T</dd><dt><span>bounds :</span></dt><dd>time_counter_bounds</dd><dt><span>long_name :</span></dt><dd>Time axis</dd><dt><span>standard_name :</span></dt><dd>time</dd><dt><span>time_origin :</span></dt><dd>2000-01-01 00:00:00</dd></dl></div><div class='xr-var-data'><pre>array([&#x27;2004-01-01T00:58:30.000000000&#x27;, &#x27;2004-01-01T01:58:30.000000000&#x27;,\n",
       "       &#x27;2004-01-01T02:58:30.000000000&#x27;, &#x27;2004-01-01T03:58:30.000000000&#x27;,\n",
       "       &#x27;2004-01-01T04:58:30.000000000&#x27;], dtype=&#x27;datetime64[ns]&#x27;)</pre></div></li><li class='xr-var-item'><div class='xr-var-name'><span>time_instant</span></div><div class='xr-var-dims'>(time_counter)</div><div class='xr-var-dtype'>datetime64[ns]</div><div class='xr-var-preview xr-preview'>dask.array&lt;chunksize=(1,), meta=np.ndarray&gt;</div><input id='attrs-7f5f3445-703b-45df-bbcc-4ef515090313' class='xr-var-attrs-in' type='checkbox' ><label for='attrs-7f5f3445-703b-45df-bbcc-4ef515090313' title='Show/Hide attributes'><svg class='icon xr-icon-file-text2'><use xlink:href='#icon-file-text2'></use></svg></label><input id='data-e5b055d2-c647-48c9-8e35-8774505ded83' class='xr-var-data-in' type='checkbox'><label for='data-e5b055d2-c647-48c9-8e35-8774505ded83' title='Show/Hide data repr'><svg class='icon xr-icon-database'><use xlink:href='#icon-database'></use></svg></label><div class='xr-var-attrs'><dl class='xr-attrs'><dt><span>bounds :</span></dt><dd>time_instant_bounds</dd><dt><span>long_name :</span></dt><dd>Time axis</dd><dt><span>standard_name :</span></dt><dd>time</dd><dt><span>time_origin :</span></dt><dd>2000-01-01 00:00:00</dd></dl></div><div class='xr-var-data'><table>\n",
       "    <tr>\n",
       "        <td>\n",
       "            <table style=\"border-collapse: collapse;\">\n",
       "                <thead>\n",
       "                    <tr>\n",
       "                        <td> </td>\n",
       "                        <th> Array </th>\n",
       "                        <th> Chunk </th>\n",
       "                    </tr>\n",
       "                </thead>\n",
       "                <tbody>\n",
       "                    \n",
       "                    <tr>\n",
       "                        <th> Bytes </th>\n",
       "                        <td> 40 B </td>\n",
       "                        <td> 8 B </td>\n",
       "                    </tr>\n",
       "                    \n",
       "                    <tr>\n",
       "                        <th> Shape </th>\n",
       "                        <td> (5,) </td>\n",
       "                        <td> (1,) </td>\n",
       "                    </tr>\n",
       "                    <tr>\n",
       "                        <th> Dask graph </th>\n",
       "                        <td colspan=\"2\"> 5 chunks in 2 graph layers </td>\n",
       "                    </tr>\n",
       "                    <tr>\n",
       "                        <th> Data type </th>\n",
       "                        <td colspan=\"2\"> datetime64[ns] numpy.ndarray </td>\n",
       "                    </tr>\n",
       "                </tbody>\n",
       "            </table>\n",
       "        </td>\n",
       "        <td>\n",
       "        <svg width=\"170\" height=\"92\" style=\"stroke:rgb(0,0,0);stroke-width:1\" >\n",
       "\n",
       "  <!-- Horizontal lines -->\n",
       "  <line x1=\"0\" y1=\"0\" x2=\"120\" y2=\"0\" style=\"stroke-width:2\" />\n",
       "  <line x1=\"0\" y1=\"42\" x2=\"120\" y2=\"42\" style=\"stroke-width:2\" />\n",
       "\n",
       "  <!-- Vertical lines -->\n",
       "  <line x1=\"0\" y1=\"0\" x2=\"0\" y2=\"42\" style=\"stroke-width:2\" />\n",
       "  <line x1=\"24\" y1=\"0\" x2=\"24\" y2=\"42\" />\n",
       "  <line x1=\"48\" y1=\"0\" x2=\"48\" y2=\"42\" />\n",
       "  <line x1=\"72\" y1=\"0\" x2=\"72\" y2=\"42\" />\n",
       "  <line x1=\"96\" y1=\"0\" x2=\"96\" y2=\"42\" />\n",
       "  <line x1=\"120\" y1=\"0\" x2=\"120\" y2=\"42\" style=\"stroke-width:2\" />\n",
       "\n",
       "  <!-- Colored Rectangle -->\n",
       "  <polygon points=\"0.0,0.0 120.0,0.0 120.0,42.00989029700999 0.0,42.00989029700999\" style=\"fill:#ECB172A0;stroke-width:0\"/>\n",
       "\n",
       "  <!-- Text -->\n",
       "  <text x=\"60.000000\" y=\"62.009890\" font-size=\"1.0rem\" font-weight=\"100\" text-anchor=\"middle\" >5</text>\n",
       "  <text x=\"140.000000\" y=\"21.004945\" font-size=\"1.0rem\" font-weight=\"100\" text-anchor=\"middle\" transform=\"rotate(0,140.000000,21.004945)\">1</text>\n",
       "</svg>\n",
       "        </td>\n",
       "    </tr>\n",
       "</table></div></li></ul></div></li><li class='xr-section-item'><input id='section-498db27a-f299-449e-9210-3d11f4a587e0' class='xr-section-summary-in' type='checkbox'  checked><label for='section-498db27a-f299-449e-9210-3d11f4a587e0' class='xr-section-summary' >Data variables: <span>(2)</span></label><div class='xr-section-inline-details'></div><div class='xr-section-details'><ul class='xr-var-list'><li class='xr-var-item'><div class='xr-var-name'><span>ocean_mask</span></div><div class='xr-var-dims'>(y_rho, x_rho)</div><div class='xr-var-dtype'>bool</div><div class='xr-var-preview xr-preview'>dask.array&lt;chunksize=(838, 727), meta=np.ndarray&gt;</div><input id='attrs-f775b690-c192-42ea-a283-cbd9deb3c24d' class='xr-var-attrs-in' type='checkbox' disabled><label for='attrs-f775b690-c192-42ea-a283-cbd9deb3c24d' title='Show/Hide attributes'><svg class='icon xr-icon-file-text2'><use xlink:href='#icon-file-text2'></use></svg></label><input id='data-4071d584-3721-4073-80d5-b52f59330021' class='xr-var-data-in' type='checkbox'><label for='data-4071d584-3721-4073-80d5-b52f59330021' title='Show/Hide data repr'><svg class='icon xr-icon-database'><use xlink:href='#icon-database'></use></svg></label><div class='xr-var-attrs'><dl class='xr-attrs'></dl></div><div class='xr-var-data'><table>\n",
       "    <tr>\n",
       "        <td>\n",
       "            <table style=\"border-collapse: collapse;\">\n",
       "                <thead>\n",
       "                    <tr>\n",
       "                        <td> </td>\n",
       "                        <th> Array </th>\n",
       "                        <th> Chunk </th>\n",
       "                    </tr>\n",
       "                </thead>\n",
       "                <tbody>\n",
       "                    \n",
       "                    <tr>\n",
       "                        <th> Bytes </th>\n",
       "                        <td> 594.95 kiB </td>\n",
       "                        <td> 594.95 kiB </td>\n",
       "                    </tr>\n",
       "                    \n",
       "                    <tr>\n",
       "                        <th> Shape </th>\n",
       "                        <td> (838, 727) </td>\n",
       "                        <td> (838, 727) </td>\n",
       "                    </tr>\n",
       "                    <tr>\n",
       "                        <th> Dask graph </th>\n",
       "                        <td colspan=\"2\"> 1 chunks in 2 graph layers </td>\n",
       "                    </tr>\n",
       "                    <tr>\n",
       "                        <th> Data type </th>\n",
       "                        <td colspan=\"2\"> bool numpy.ndarray </td>\n",
       "                    </tr>\n",
       "                </tbody>\n",
       "            </table>\n",
       "        </td>\n",
       "        <td>\n",
       "        <svg width=\"154\" height=\"170\" style=\"stroke:rgb(0,0,0);stroke-width:1\" >\n",
       "\n",
       "  <!-- Horizontal lines -->\n",
       "  <line x1=\"0\" y1=\"0\" x2=\"104\" y2=\"0\" style=\"stroke-width:2\" />\n",
       "  <line x1=\"0\" y1=\"120\" x2=\"104\" y2=\"120\" style=\"stroke-width:2\" />\n",
       "\n",
       "  <!-- Vertical lines -->\n",
       "  <line x1=\"0\" y1=\"0\" x2=\"0\" y2=\"120\" style=\"stroke-width:2\" />\n",
       "  <line x1=\"104\" y1=\"0\" x2=\"104\" y2=\"120\" style=\"stroke-width:2\" />\n",
       "\n",
       "  <!-- Colored Rectangle -->\n",
       "  <polygon points=\"0.0,0.0 104.10501193317423,0.0 104.10501193317423,120.0 0.0,120.0\" style=\"fill:#ECB172A0;stroke-width:0\"/>\n",
       "\n",
       "  <!-- Text -->\n",
       "  <text x=\"52.052506\" y=\"140.000000\" font-size=\"1.0rem\" font-weight=\"100\" text-anchor=\"middle\" >727</text>\n",
       "  <text x=\"124.105012\" y=\"60.000000\" font-size=\"1.0rem\" font-weight=\"100\" text-anchor=\"middle\" transform=\"rotate(-90,124.105012,60.000000)\">838</text>\n",
       "</svg>\n",
       "        </td>\n",
       "    </tr>\n",
       "</table></div></li><li class='xr-var-item'><div class='xr-var-name'><span>temp</span></div><div class='xr-var-dims'>(time_counter, s_rho, y_rho, x_rho)</div><div class='xr-var-dtype'>float32</div><div class='xr-var-preview xr-preview'>dask.array&lt;chunksize=(1, 40, 838, 727), meta=np.ndarray&gt;</div><input id='attrs-323bbf03-553d-4894-81a1-5aac4ba28ffb' class='xr-var-attrs-in' type='checkbox' ><label for='attrs-323bbf03-553d-4894-81a1-5aac4ba28ffb' title='Show/Hide attributes'><svg class='icon xr-icon-file-text2'><use xlink:href='#icon-file-text2'></use></svg></label><input id='data-626497f6-f913-466d-8822-40f7fc16ddd9' class='xr-var-data-in' type='checkbox'><label for='data-626497f6-f913-466d-8822-40f7fc16ddd9' title='Show/Hide data repr'><svg class='icon xr-icon-database'><use xlink:href='#icon-database'></use></svg></label><div class='xr-var-attrs'><dl class='xr-attrs'><dt><span>cell_methods :</span></dt><dd>time: point</dd><dt><span>interval_operation :</span></dt><dd>1 h</dd><dt><span>interval_write :</span></dt><dd>1 h</dd><dt><span>long_name :</span></dt><dd>potential temperature</dd><dt><span>online_operation :</span></dt><dd>instant</dd><dt><span>units :</span></dt><dd>Celsius</dd></dl></div><div class='xr-var-data'><table>\n",
       "    <tr>\n",
       "        <td>\n",
       "            <table style=\"border-collapse: collapse;\">\n",
       "                <thead>\n",
       "                    <tr>\n",
       "                        <td> </td>\n",
       "                        <th> Array </th>\n",
       "                        <th> Chunk </th>\n",
       "                    </tr>\n",
       "                </thead>\n",
       "                <tbody>\n",
       "                    \n",
       "                    <tr>\n",
       "                        <th> Bytes </th>\n",
       "                        <td> 464.80 MiB </td>\n",
       "                        <td> 92.96 MiB </td>\n",
       "                    </tr>\n",
       "                    \n",
       "                    <tr>\n",
       "                        <th> Shape </th>\n",
       "                        <td> (5, 40, 838, 727) </td>\n",
       "                        <td> (1, 40, 838, 727) </td>\n",
       "                    </tr>\n",
       "                    <tr>\n",
       "                        <th> Dask graph </th>\n",
       "                        <td colspan=\"2\"> 5 chunks in 2 graph layers </td>\n",
       "                    </tr>\n",
       "                    <tr>\n",
       "                        <th> Data type </th>\n",
       "                        <td colspan=\"2\"> float32 numpy.ndarray </td>\n",
       "                    </tr>\n",
       "                </tbody>\n",
       "            </table>\n",
       "        </td>\n",
       "        <td>\n",
       "        <svg width=\"364\" height=\"190\" style=\"stroke:rgb(0,0,0);stroke-width:1\" >\n",
       "\n",
       "  <!-- Horizontal lines -->\n",
       "  <line x1=\"0\" y1=\"0\" x2=\"25\" y2=\"0\" style=\"stroke-width:2\" />\n",
       "  <line x1=\"0\" y1=\"25\" x2=\"25\" y2=\"25\" style=\"stroke-width:2\" />\n",
       "\n",
       "  <!-- Vertical lines -->\n",
       "  <line x1=\"0\" y1=\"0\" x2=\"0\" y2=\"25\" style=\"stroke-width:2\" />\n",
       "  <line x1=\"5\" y1=\"0\" x2=\"5\" y2=\"25\" />\n",
       "  <line x1=\"10\" y1=\"0\" x2=\"10\" y2=\"25\" />\n",
       "  <line x1=\"15\" y1=\"0\" x2=\"15\" y2=\"25\" />\n",
       "  <line x1=\"20\" y1=\"0\" x2=\"20\" y2=\"25\" />\n",
       "  <line x1=\"25\" y1=\"0\" x2=\"25\" y2=\"25\" style=\"stroke-width:2\" />\n",
       "\n",
       "  <!-- Colored Rectangle -->\n",
       "  <polygon points=\"0.0,0.0 25.412616514582485,0.0 25.412616514582485,25.412616514582485 0.0,25.412616514582485\" style=\"fill:#ECB172A0;stroke-width:0\"/>\n",
       "\n",
       "  <!-- Text -->\n",
       "  <text x=\"12.706308\" y=\"45.412617\" font-size=\"1.0rem\" font-weight=\"100\" text-anchor=\"middle\" >5</text>\n",
       "  <text x=\"45.412617\" y=\"12.706308\" font-size=\"1.0rem\" font-weight=\"100\" text-anchor=\"middle\" transform=\"rotate(0,45.412617,12.706308)\">1</text>\n",
       "\n",
       "\n",
       "  <!-- Horizontal lines -->\n",
       "  <line x1=\"95\" y1=\"0\" x2=\"115\" y2=\"20\" style=\"stroke-width:2\" />\n",
       "  <line x1=\"95\" y1=\"120\" x2=\"115\" y2=\"140\" style=\"stroke-width:2\" />\n",
       "\n",
       "  <!-- Vertical lines -->\n",
       "  <line x1=\"95\" y1=\"0\" x2=\"95\" y2=\"120\" style=\"stroke-width:2\" />\n",
       "  <line x1=\"115\" y1=\"20\" x2=\"115\" y2=\"140\" style=\"stroke-width:2\" />\n",
       "\n",
       "  <!-- Colored Rectangle -->\n",
       "  <polygon points=\"95.0,0.0 115.12748003480533,20.127480034805338 115.12748003480533,140.12748003480533 95.0,120.0\" style=\"fill:#ECB172A0;stroke-width:0\"/>\n",
       "\n",
       "  <!-- Horizontal lines -->\n",
       "  <line x1=\"95\" y1=\"0\" x2=\"199\" y2=\"0\" style=\"stroke-width:2\" />\n",
       "  <line x1=\"115\" y1=\"20\" x2=\"219\" y2=\"20\" style=\"stroke-width:2\" />\n",
       "\n",
       "  <!-- Vertical lines -->\n",
       "  <line x1=\"95\" y1=\"0\" x2=\"115\" y2=\"20\" style=\"stroke-width:2\" />\n",
       "  <line x1=\"199\" y1=\"0\" x2=\"219\" y2=\"20\" style=\"stroke-width:2\" />\n",
       "\n",
       "  <!-- Colored Rectangle -->\n",
       "  <polygon points=\"95.0,0.0 199.10501193317424,0.0 219.23249196797957,20.127480034805338 115.12748003480533,20.127480034805338\" style=\"fill:#ECB172A0;stroke-width:0\"/>\n",
       "\n",
       "  <!-- Horizontal lines -->\n",
       "  <line x1=\"115\" y1=\"20\" x2=\"219\" y2=\"20\" style=\"stroke-width:2\" />\n",
       "  <line x1=\"115\" y1=\"140\" x2=\"219\" y2=\"140\" style=\"stroke-width:2\" />\n",
       "\n",
       "  <!-- Vertical lines -->\n",
       "  <line x1=\"115\" y1=\"20\" x2=\"115\" y2=\"140\" style=\"stroke-width:2\" />\n",
       "  <line x1=\"219\" y1=\"20\" x2=\"219\" y2=\"140\" style=\"stroke-width:2\" />\n",
       "\n",
       "  <!-- Colored Rectangle -->\n",
       "  <polygon points=\"115.12748003480533,20.127480034805338 219.23249196797957,20.127480034805338 219.23249196797957,140.12748003480533 115.12748003480533,140.12748003480533\" style=\"fill:#ECB172A0;stroke-width:0\"/>\n",
       "\n",
       "  <!-- Text -->\n",
       "  <text x=\"167.179986\" y=\"160.127480\" font-size=\"1.0rem\" font-weight=\"100\" text-anchor=\"middle\" >727</text>\n",
       "  <text x=\"239.232492\" y=\"80.127480\" font-size=\"1.0rem\" font-weight=\"100\" text-anchor=\"middle\" transform=\"rotate(-90,239.232492,80.127480)\">838</text>\n",
       "  <text x=\"95.063740\" y=\"150.063740\" font-size=\"1.0rem\" font-weight=\"100\" text-anchor=\"middle\" transform=\"rotate(45,95.063740,150.063740)\">40</text>\n",
       "</svg>\n",
       "        </td>\n",
       "    </tr>\n",
       "</table></div></li></ul></div></li><li class='xr-section-item'><input id='section-ee4ec8c5-f6bf-416c-8a16-d6ef4dcd494f' class='xr-section-summary-in' type='checkbox'  ><label for='section-ee4ec8c5-f6bf-416c-8a16-d6ef4dcd494f' class='xr-section-summary' >Indexes: <span>(2)</span></label><div class='xr-section-inline-details'></div><div class='xr-section-details'><ul class='xr-var-list'><li class='xr-var-item'><div class='xr-index-name'><div>s_rho</div></div><div class='xr-index-preview'>PandasIndex</div><div></div><input id='index-0f1229a6-7d22-43ea-9c54-6c9825956af4' class='xr-index-data-in' type='checkbox'/><label for='index-0f1229a6-7d22-43ea-9c54-6c9825956af4' title='Show/Hide index repr'><svg class='icon xr-icon-database'><use xlink:href='#icon-database'></use></svg></label><div class='xr-index-data'><pre>PandasIndex(Index([   -0.987500011920929,   -0.9624999761581421,               -0.9375,\n",
       "         -0.9125000238418579,    -0.887499988079071,    -0.862500011920929,\n",
       "         -0.8374999761581421,               -0.8125,   -0.7875000238418579,\n",
       "          -0.762499988079071,    -0.737500011920929,   -0.7124999761581421,\n",
       "                     -0.6875,   -0.6625000238418579,    -0.637499988079071,\n",
       "          -0.612500011920929,   -0.5874999761581421,               -0.5625,\n",
       "         -0.5375000238418579,    -0.512499988079071,  -0.48750001192092896,\n",
       "         -0.4625000059604645,               -0.4375,   -0.4124999940395355,\n",
       "        -0.38749998807907104,  -0.36250001192092896,   -0.3375000059604645,\n",
       "                     -0.3125,   -0.2874999940395355,  -0.26249998807907104,\n",
       "        -0.23749999701976776,  -0.21250000596046448,               -0.1875,\n",
       "        -0.16249999403953552,  -0.13750000298023224,  -0.11249999701976776,\n",
       "        -0.08749999850988388,               -0.0625,  -0.03750000149011612,\n",
       "       -0.012500000186264515],\n",
       "      dtype=&#x27;float32&#x27;, name=&#x27;s_rho&#x27;))</pre></div></li><li class='xr-var-item'><div class='xr-index-name'><div>time_counter</div></div><div class='xr-index-preview'>PandasIndex</div><div></div><input id='index-c868ce05-f990-480a-b728-34fd3fbb36f6' class='xr-index-data-in' type='checkbox'/><label for='index-c868ce05-f990-480a-b728-34fd3fbb36f6' title='Show/Hide index repr'><svg class='icon xr-icon-database'><use xlink:href='#icon-database'></use></svg></label><div class='xr-index-data'><pre>PandasIndex(DatetimeIndex([&#x27;2004-01-01 00:58:30&#x27;, &#x27;2004-01-01 01:58:30&#x27;,\n",
       "               &#x27;2004-01-01 02:58:30&#x27;, &#x27;2004-01-01 03:58:30&#x27;,\n",
       "               &#x27;2004-01-01 04:58:30&#x27;],\n",
       "              dtype=&#x27;datetime64[ns]&#x27;, name=&#x27;time_counter&#x27;, freq=None))</pre></div></li></ul></div></li><li class='xr-section-item'><input id='section-a8c4123a-417c-40a3-87ea-1eed88b31a06' class='xr-section-summary-in' type='checkbox'  ><label for='section-a8c4123a-417c-40a3-87ea-1eed88b31a06' class='xr-section-summary' >Attributes: <span>(45)</span></label><div class='xr-section-inline-details'></div><div class='xr-section-details'><dl class='xr-attrs'><dt><span>CPP-options :</span></dt><dd>REGIONAL GAMAR MPI TIDES OBC_WEST OBC_NORTH XIOS USE_CALENDAR NC4PAR MPI_NOLAND CURVGRID SPHERICAL MASKING WET_DRY NEW_S_COORD SOLVE3D UV_COR UV_ADV SALINITY NONLIN_EOS BULK_FLUX BULK_ECUMEV6 BULK_GUSTINESS BULK_LW ONLINE ERA_ECMWF BULK_MONTH_1DIGIT FRC_BRY Z_FRC_BRY M2_FRC_BRY M3_FRC_BRY T_FRC_BRY UV_HADV_UP3 UV_VADV_SPLINES TS_HADV_RSUP3 TS_DIF4 TS_VADV_SPLINES SPONGE LIMIT_BSTRESS GLS_MIXING ANA_BSFLUX ANA_BTFLUX PSOURCE PSOURCE_NCFILE SSH_TIDES UV_TIDES POT_TIDES TIDES_MAS OBC_M2CHARACT OBC_M3ORLANSKI OBC_TORLANSKI AVERAGES AVERAGES_K OUTPUTS_SURFACE HOURLY_VELOCITIES EXACT_RESTART ANA_PSOURCE TS_HADV_C4 MPI_COMM_WORLD M2FILTER_POWER TRACERS TEMPERATURE HZR VAR_RHO_2D SPLIT_EOS UV_MIX_S DIF_COEF_3D TS_MIX_ISO TS_MIX_IMP TS_MIX_ISO_FILT NTRA_T3DMIX SPONGE_GRID SPONGE_DIF2 SPONGE_VIS2 GLS_KEPSILON CANUTO_A CUBIC_INTERP NF_CLOBBER</dd><dt><span>Conventions :</span></dt><dd>CF-1.6</dd><dt><span>Cs_r :</span></dt><dd>have a look at variable Cs_r in this file</dd><dt><span>Cs_w :</span></dt><dd>have a look at variable Cs_w in this file</dd><dt><span>SRCS :</span></dt><dd>main.F step.F read_inp.F timers_roms.F init_scalars.F init_arrays.F set_weights.F set_scoord.F ana_grid.F setup_grid1.F setup_grid2.F set_nudgcof.F ana_initial.F analytical.F zonavg.F step2d.F u2dbc.F v2dbc.F zetabc.F obc_volcons.F pre_step3d.F step3d_t.F step3d_uv1.F step3d_uv2.F prsgrd.F rhs3d.F set_depth.F omega.F uv3dmix.F uv3dmix_spg.F t3dmix.F t3dmix_spg.F hmix_coef.F wetdry.F wavedry.F u3dbc.F v3dbc.F t3dbc.F step3d_fast.F step3d_w.F rhs3d_w_nh.F initial_nbq.F grid_nbq.F unbq_bc.F vnbq_bc.F wnbq_bc.F rnbq_bc.F w3dbc.F nbq_bry_store.F rho_eos.F ab_ratio.F alfabeta.F alfabeta_k.F ana_vmix.F bvf_mix.F lmd_vmix.F gls_mixing.F lmd_skpp.F lmd_bkpp.F lmd_swfrac.F lmd_wscale.F diag.F wvlcty.F checkdims.F grid_stiffness.F bio_diag.F setup_kwds.F check_kwds.F check_srcs.F check_switches1.F check_switches2.F debug.F param.F ncscrum.F scalars.F output.F put_global_atts.F nf_fread.F nf_fread_x.F nf_fread_y.F nf_read_bry.F get_date.F lenstr.F closecdf.F insert_node.F fillvalue.F nf_add_attribute.F set_cycle.F def_grid_2d.F def_grid_3d.F def_his.F def_rst.F def_diags.F def_diagsM.F def_bio_diags.F wrt_grid.F wrt_his.F wrt_avg.F wrt_rst.F wrt_diags.F wrt_diags_avg.F wrt_diagsM.F wrt_diagsM_avg.F wrt_bio_diags.F wrt_bio_diags_avg.F set_avg.F set_diags_avg.F set_diagsM_avg.F set_bio_diags_avg.F def_diags_vrt.F wrt_diags_vrt.F set_diags_vrt.F set_diags_vrt_avg.F wrt_diags_vrt_avg.F def_diags_ek.F wrt_diags_ek.F set_diags_ek.F set_diags_ek_avg.F wrt_diags_ek_avg.F def_diags_pv.F wrt_diags_pv.F set_diags_pv.F set_diags_pv_avg.F wrt_diags_pv_avg.F def_diags_eddy.F set_diags_eddy_avg.F wrt_diags_eddy_avg.F def_surf.F wrt_surf.F set_surf_avg.F wrt_surf_avg.F get_grid.F get_initial.F get_vbc.F get_wwave.F get_tclima.F get_uclima.F get_ssh.F get_sss.F get_smflux.F get_stflux.F get_srflux.F get_sst.F mod_tides_mas.F tidedata.F mas.F get_tides.F clm_tides.F get_bulk.F bulk_flux.F get_bry.F get_bry_bio.F sstskin.F get_psource.F get_psource_ts.F get_btflux.F mrl_wci.F wkb_wwave.F wkbbc.F get_bry_wkb.F online_bulk_var.F online_get_bulk.F online_interp.F online_interpolate_bulk.F online_set_bulk.F online_interpolate_3d_bulk.F init_floats.F wrt_floats.F step_floats.F rhs_floats.F interp_rho.F def_floats.F init_arrays_floats.F random_walk.F get_initial_floats.F init_sta.F wrt_sta.F step_sta.F interp_sta.F def_sta.F init_arrays_sta.F biology.F o2sato.F sediment.F bbl.F MPI_Setup.F MessPass2D.F MessPass3D.F exchange.F autotiling.F zoom.F update2D.F set_nudgcof_fine.F zoombc_2D.F zoombc_3D.F uv3dpremix.F t3dpremix.F update3D.F zoombc_3Dfast.F Agrif2Model.F send_xios_diags.F cpl_prism_define.F cpl_prism_put.F cpl_prism_init.F cpl_prism_get.F cpl_prism_getvar.F cpl_prism_grid.F module_substance.F module_MUSTANG.F abl_step.F abl_ini.F abl_tke.F wrt_abl_his.F def_abl_his.F wrt_abl_avg.F set_abl_avg.F online_spectral_diags.F var3d_oa_out.F var2d_oa_out.F scal0d_oa_out_loc.F scal0d_oa_out_full.F output_oa.F par_pisces.F90 ocean2pisces.F90 trc.F90 sms_pisces.F90 p4zche.F90 p4zint.F90 p4zlys.F90 p4zflx.F90 p4zlim.F90 p4zsink.F90 p4zmicro.F90 p4zmeso.F90 p4zmort.F90 p4zopt.F90 p4zprod.F90 p4zrem.F90 p4zsbc.F90 p4zsed.F90 trcwri_pisces.F90 p4zagg.F90 p4zfechem.F90 p4zligand.F90 p4zpoc.F90 p2zlim.F90 p2zmicro.F90 p2zmort.F90 p2zprod.F90 p5zmicro.F90 p5zmort.F90 p5zprod.F90 p5zlim.F90 p5zmeso.F90 p4zbio.F90 p4zsms.F90 trcsms_pisces.F90 trcini_pisces.F90 pisces_ini.F90 oce_sed.F90 par_sed.F90 sedadv.F90 sedarr.F90 sedbtb.F90 sedchem.F90 sedco3.F90 seddiff.F90 seddsr.F90 seddta.F90 sed.F90 sedini.F90 sedinitrc.F90 sedinorg.F90 sedmat.F90 sedmbc.F90 sedmodel.F90 sed_oce.F90 sedorg.F90 sedrst.F90 sedsfc.F90 sedstp.F90 sedwri.F90 setavg_sed.F90 module_parameter_oa.F90 module_grd_oa.F90 module_oa_time.F90 module_oa_space.F90 module_oa_periode.F90 module_oa_variables.F90 module_oa_type.F90 module_tile_oa.F90 module_oa_level.F90 module_oa_interface.F90 var_oa.F90 tooldatosec.F90 toolsectodat.F90 tooldecompdat.F90 tooldatetosec.F90 toolorigindate.F90 flocmod.F90 comsubstance.F90 substance.F90 comMUSTANG.F90 coupler_MUSTANG.F90 sed_MUSTANG_CROCO.F90 sed_MUSTANG.F90 initMUSTANG.F90 plug_MUSTANG_CROCO.F90</dd><dt><span>Tcline :</span></dt><dd>15.0</dd><dt><span>Tcline_expl :</span></dt><dd>S-coordinate surface/bottom layer width</dd><dt><span>Tcline_units :</span></dt><dd>meter</dd><dt><span>VertCoordType :</span></dt><dd>NEW</dd><dt><span>description :</span></dt><dd>Created by xios</dd><dt><span>dt :</span></dt><dd>45.0</dd><dt><span>dtfast :</span></dt><dd>0.75</dd><dt><span>frc_file :</span></dt><dd>croco_frc.nc</dd><dt><span>gamma2 :</span></dt><dd>1.0</dd><dt><span>gamma2_expl :</span></dt><dd>Slipperiness parameter</dd><dt><span>grd_file :</span></dt><dd>croco_grd.nc</dd><dt><span>hc :</span></dt><dd>15.0</dd><dt><span>hc_expl :</span></dt><dd>S-coordinate parameter, critical depth</dd><dt><span>hc_units :</span></dt><dd>meter</dd><dt><span>ini_file :</span></dt><dd>croco_ini.nc</dd><dt><span>name :</span></dt><dd>GAMAR_GLORYS_1h_inst</dd><dt><span>ndtfast :</span></dt><dd>60</dd><dt><span>ntimes :</span></dt><dd>2864641</dd><dt><span>nwrt :</span></dt><dd>9600</dd><dt><span>rdrg :</span></dt><dd>0.0</dd><dt><span>rdrg_expl :</span></dt><dd>linear drag coefficient</dd><dt><span>rdrg_units :</span></dt><dd>meter second-1</dd><dt><span>rho0 :</span></dt><dd>1025.0</dd><dt><span>rho0_expl :</span></dt><dd>Mean density used in Boussinesq approximation</dd><dt><span>rho0_units :</span></dt><dd>kilogram meter-3</dd><dt><span>rst_file :</span></dt><dd>croco_rst.nc</dd><dt><span>sc_r :</span></dt><dd>have a look at variable sc_r in this file</dd><dt><span>sc_w :</span></dt><dd>have a look at variable sc_w in this file</dd><dt><span>sponge_expl :</span></dt><dd>Sponge parameters : extent (m) &amp; viscosity (m2.s-1)</dd><dt><span>theta_b :</span></dt><dd>4.0</dd><dt><span>theta_b_expl :</span></dt><dd>S-coordinate bottom control parameter</dd><dt><span>theta_s :</span></dt><dd>6.0</dd><dt><span>theta_s_expl :</span></dt><dd>S-coordinate surface control parameter</dd><dt><span>timeStamp :</span></dt><dd>2024-Apr-01 10:49:18 GMT</dd><dt><span>title :</span></dt><dd>GAMAR_GLORYS</dd><dt><span>tnu4_expl :</span></dt><dd>biharmonic mixing coefficient for tracers</dd><dt><span>units :</span></dt><dd>meter4 second-1</dd><dt><span>uuid :</span></dt><dd>06f6b784-fcc0-4422-aceb-17da2a5aa9fa</dd><dt><span>v_sponge :</span></dt><dd>0.0</dd><dt><span>x_sponge :</span></dt><dd>0.0</dd></dl></div></li></ul></div></div>"
      ],
      "text/plain": [
       "<xarray.Dataset> Size: 498MB\n",
       "Dimensions:       (y_rho: 838, x_rho: 727, s_rho: 40, time_counter: 5)\n",
       "Coordinates:\n",
       "    nav_lat_rho   (y_rho, x_rho) float64 5MB dask.array<chunksize=(838, 727), meta=np.ndarray>\n",
       "    nav_lon_rho   (y_rho, x_rho) float64 5MB dask.array<chunksize=(838, 727), meta=np.ndarray>\n",
       "  * s_rho         (s_rho) float32 160B -0.9875 -0.9625 ... -0.0375 -0.0125\n",
       "  * time_counter  (time_counter) datetime64[ns] 40B 2004-01-01T00:58:30 ... 2...\n",
       "    time_instant  (time_counter) datetime64[ns] 40B dask.array<chunksize=(1,), meta=np.ndarray>\n",
       "Dimensions without coordinates: y_rho, x_rho\n",
       "Data variables:\n",
       "    ocean_mask    (y_rho, x_rho) bool 609kB dask.array<chunksize=(838, 727), meta=np.ndarray>\n",
       "    temp          (time_counter, s_rho, y_rho, x_rho) float32 487MB dask.array<chunksize=(1, 40, 838, 727), meta=np.ndarray>\n",
       "Attributes: (12/45)\n",
       "    CPP-options:    REGIONAL GAMAR MPI TIDES OBC_WEST OBC_NORTH XIOS USE_CALE...\n",
       "    Conventions:    CF-1.6\n",
       "    Cs_r:           have a look at variable Cs_r in this file\n",
       "    Cs_w:           have a look at variable Cs_w in this file\n",
       "    SRCS:           main.F step.F read_inp.F timers_roms.F init_scalars.F ini...\n",
       "    Tcline:         15.0\n",
       "    ...             ...\n",
       "    title:          GAMAR_GLORYS\n",
       "    tnu4_expl:      biharmonic mixing coefficient for tracers\n",
       "    units:          meter4 second-1\n",
       "    uuid:           06f6b784-fcc0-4422-aceb-17da2a5aa9fa\n",
       "    v_sponge:       0.0\n",
       "    x_sponge:       0.0"
      ]
     },
     "execution_count": 4,
     "metadata": {},
     "output_type": "execute_result"
    }
   ],
   "source": [
    "ds = xr.open_zarr(url_data)\n",
    "ds"
   ]
  },
  {
   "cell_type": "markdown",
   "id": "ff1c2632-c124-41e2-acb1-e70d8b8ffd31",
   "metadata": {},
   "source": [
    "## Get metadata from RiOMAR\n",
    "\n",
    "### Get the title\n"
   ]
  },
  {
   "cell_type": "code",
   "execution_count": 5,
   "id": "5055ddd0-0dbf-40fb-9c13-7353c833f4c2",
   "metadata": {},
   "outputs": [],
   "source": [
    "title = ds.attrs[\"name\"]"
   ]
  },
  {
   "cell_type": "markdown",
   "id": "215f4d4e-1b33-4ea4-a662-73f8287ccf3c",
   "metadata": {},
   "source": [
    "### Need to have better description available in the metadata. It could be constructed from the metadata if metadata were better constructed"
   ]
  },
  {
   "cell_type": "code",
   "execution_count": 6,
   "id": "1c3d0764-eecd-4258-a5b0-2e6e80a895ac",
   "metadata": {},
   "outputs": [],
   "source": [
    "description = \"RiOMar dataset \" + title "
   ]
  },
  {
   "cell_type": "markdown",
   "id": "99e3f949-2476-4931-a244-12e3a35522b5",
   "metadata": {},
   "source": [
    "### Get bounding box in WKT\n",
    "- Latitudes with values of -1 are NaN"
   ]
  },
  {
   "cell_type": "code",
   "execution_count": 7,
   "id": "010ca1f3-d450-4b7b-af96-690266b1386f",
   "metadata": {},
   "outputs": [
    {
     "name": "stdout",
     "output_type": "stream",
     "text": [
      "43.285 50.867471190931404 -8.0 1.6800000000000015\n"
     ]
    }
   ],
   "source": [
    "minlat = ds.nav_lat_rho.where(ds.nav_lat_rho > -1, np.nan).min().values\n",
    "maxlat = ds.nav_lat_rho.max().values\n",
    "minlon = ds.nav_lon_rho.min().values\n",
    "maxlon = ds.nav_lon_rho.max().values\n",
    "print(minlat, maxlat, minlon, maxlon)"
   ]
  },
  {
   "cell_type": "code",
   "execution_count": 8,
   "id": "0cbb4e28-be31-4626-9f68-06889c040d3d",
   "metadata": {},
   "outputs": [
    {
     "data": {
      "text/plain": [
       "'POLYGON ((1.6800000000000015 43.285, 1.6800000000000015 50.867471190931404, -8 50.867471190931404, -8 43.285, 1.6800000000000015 43.285))'"
      ]
     },
     "execution_count": 8,
     "metadata": {},
     "output_type": "execute_result"
    }
   ],
   "source": [
    "geometry_wkt = shapely.geometry.box(minlon, minlat, maxlon, maxlat).wkt\n",
    "geometry_wkt"
   ]
  },
  {
   "cell_type": "markdown",
   "id": "2edeba4f-ed1b-4369-af5b-e01d178ff2c2",
   "metadata": {},
   "source": [
    "- time range "
   ]
  },
  {
   "cell_type": "code",
   "execution_count": 9,
   "id": "abbfaf9b-376a-4231-b001-d6fb979cf55d",
   "metadata": {},
   "outputs": [
    {
     "data": {
      "text/plain": [
       "('2004.01.01', '2004.01.01')"
      ]
     },
     "execution_count": 9,
     "metadata": {},
     "output_type": "execute_result"
    }
   ],
   "source": [
    "ts = pd.to_datetime(str(ds.time_counter.min().values)) \n",
    "te = pd.to_datetime(str(ds.time_counter.max().values)) \n",
    "date_start = ts.strftime('%Y.%m.%d')\n",
    "date_end = te.strftime('%Y.%m.%d')\n",
    "date_start, date_end"
   ]
  },
  {
   "cell_type": "markdown",
   "id": "0a99c5ba-3309-4389-bb1a-f6e0cc10bc15",
   "metadata": {},
   "source": [
    "- Creation date (we assume `timeStamp` contains this information (TBC)"
   ]
  },
  {
   "cell_type": "code",
   "execution_count": 10,
   "id": "45e09520-f431-490a-b164-dca23f1347a2",
   "metadata": {},
   "outputs": [
    {
     "data": {
      "text/plain": [
       "'2024-Apr-01 10:49:18 GMT'"
      ]
     },
     "execution_count": 10,
     "metadata": {},
     "output_type": "execute_result"
    }
   ],
   "source": [
    "dateCreated = ds.attrs[\"timeStamp\"]\n",
    "dateCreated"
   ]
  },
  {
   "cell_type": "code",
   "execution_count": 11,
   "id": "b382efec-d9c2-4e4e-a57a-0183487f311a",
   "metadata": {},
   "outputs": [
    {
     "name": "stdout",
     "output_type": "stream",
     "text": [
      "Today's date: 2025.01.19\n"
     ]
    }
   ],
   "source": [
    "from datetime import date\n",
    "\n",
    "today = date.today().strftime('%Y.%m.%d')\n",
    "print(\"Today's date:\", today)\n",
    "\n",
    "sdDatePublished =  today # could be the date corresponding to the creation of the DOI (publishing)\n",
    "dateModified =  today # could be the date of creation of the DGGS regridded data e.g. it needs to be added to Zarr when regridding"
   ]
  },
  {
   "cell_type": "markdown",
   "id": "373bb143-72f0-49d9-9e79-be8271eca7f6",
   "metadata": {},
   "source": [
    "### Get the size of the dataset\n",
    "- We usually can get this information from the metadata (needs to be added)"
   ]
  },
  {
   "cell_type": "code",
   "execution_count": 12,
   "id": "7d41e5e2-5805-4314-8d61-dec91cfa99cc",
   "metadata": {},
   "outputs": [],
   "source": [
    "contentSize = 0 # We need to get the total size in bytes"
   ]
  },
  {
   "cell_type": "markdown",
   "id": "52c4412b-f9fb-452e-b198-805c7efb35ec",
   "metadata": {},
   "source": [
    "### Get the persistent identifier\n",
    "- Dataset should have a persistent identifier e.g. DOI (currently it does not have one)\n"
   ]
  },
  {
   "cell_type": "code",
   "execution_count": 13,
   "id": "24b37254-2060-4afa-86fa-d0a4e08c079f",
   "metadata": {},
   "outputs": [],
   "source": [
    "doi_data = \"NONE\" # it is a problem"
   ]
  },
  {
   "cell_type": "markdown",
   "id": "e1aa2fc7-9b6c-4344-82a4-01bbb52b1b16",
   "metadata": {},
   "source": [
    "### StudySubject and keywords\n",
    "\n",
    "- StudySubject and keywords"
   ]
  },
  {
   "cell_type": "code",
   "execution_count": 14,
   "id": "c4084757-8620-40f5-9bc2-9f71ba809662",
   "metadata": {},
   "outputs": [],
   "source": [
    "studySubject_urls = [ \"http://inspire.ec.europa.eu/metadata-codelist/TopicCategory/environment\"]\n",
    "keywords = [\"riomar\", \"croco\"]"
   ]
  },
  {
   "cell_type": "markdown",
   "id": "9b96b57b-74df-474d-9215-3c21dfa8bd61",
   "metadata": {},
   "source": [
    "### Version of the dataset"
   ]
  },
  {
   "cell_type": "code",
   "execution_count": 15,
   "id": "5c1ac837-3d31-4bc5-854c-69bcd81443ce",
   "metadata": {},
   "outputs": [],
   "source": [
    "version_data = \"1.0\""
   ]
  },
  {
   "cell_type": "markdown",
   "id": "adcdefad-1ede-452d-bbf5-3c6e7c713473",
   "metadata": {},
   "source": [
    "### Prepare information for the provenance"
   ]
  },
  {
   "cell_type": "code",
   "execution_count": 16,
   "id": "abf88a98-3c85-4c88-b39f-55a8ff7ca356",
   "metadata": {},
   "outputs": [],
   "source": [
    "prov = {\n",
    "      \"@id\": \"https://doi.org/10.5281/zenodo.13898339\",\n",
    "      \"@type\": \"SoftwareApplication\",\n",
    "      \"url\": \"https://www.croco-ocean.org\",\n",
    "      \"name\": \"CROCO, Coastal and Regional Ocean COmmunity\",\n",
    "      \"version\": \"CROCO GAMA model v2.0.1 https://doi.org/10.5281/zenodo.13898339\"\n",
    "}"
   ]
  },
  {
   "cell_type": "markdown",
   "id": "7b452d92-85ce-47ff-b1fc-3acee12d7f5e",
   "metadata": {},
   "source": [
    "## Create a new RO-Crate"
   ]
  },
  {
   "cell_type": "code",
   "execution_count": 17,
   "id": "875d831c-08d4-4435-8349-d904570bf2d1",
   "metadata": {},
   "outputs": [],
   "source": [
    "crate = ROCrate()"
   ]
  },
  {
   "cell_type": "markdown",
   "id": "8e3a0d3f-b0ce-44ab-b858-a392c4c65f01",
   "metadata": {},
   "source": [
    "## Add the license for the RO-Crate\n",
    "\n",
    "- The license of the Research Object (RO-Crate) may not be the same as the licenses of the data bundled in the RO-Crate.\n",
    "- Our RO-Crate is open and distributed under [CC-BY-4](https://creativecommons.org/licenses/by/4.0/) license.\n",
    "- The content of the license needs to be a URL (here `https://creativecommons.org/licenses/by/4.0/`)"
   ]
  },
  {
   "cell_type": "code",
   "execution_count": 18,
   "id": "deb96d5a-c7b2-4148-8b46-e3757ce46889",
   "metadata": {},
   "outputs": [],
   "source": [
    "RO_license_id = \"CC-BY-4.0\"\n",
    "RO_license_url = \"https://creativecommons.org/licenses/by/4.0/\"\n",
    "RO_license_title = \"Creative Commons Attribution 4.0\""
   ]
  },
  {
   "cell_type": "markdown",
   "id": "11cd5d1a-0457-47a8-9f7b-9e6d7d578d41",
   "metadata": {},
   "source": [
    "### Add the selected license to the RO-Crate"
   ]
  },
  {
   "cell_type": "code",
   "execution_count": 19,
   "id": "2450c7f7-427f-4364-a80a-bb81e644480c",
   "metadata": {},
   "outputs": [
    {
     "data": {
      "text/plain": [
       "<https://creativecommons.org/licenses/by/4.0/ CreativeWork>"
      ]
     },
     "execution_count": 19,
     "metadata": {},
     "output_type": "execute_result"
    }
   ],
   "source": [
    "crate.update_jsonld(\n",
    "{\n",
    "    \"@id\": \"./\",\n",
    "    \"license\": { \"@id\":  RO_license_url},\n",
    "})\n",
    "license = {\n",
    "                \"@id\": RO_license_url,\n",
    "                \"@type\": \"CreativeWork\",\n",
    "                \"name\": RO_license_id,\n",
    "                \"description\": RO_license_title,\n",
    "                }\n",
    "crate.add_jsonld(license)"
   ]
  },
  {
   "cell_type": "markdown",
   "id": "e2bcc825-d82b-49e0-a010-b3759cef049e",
   "metadata": {},
   "source": [
    "## Add creators and their Organizations\n",
    "\n",
    "- you need to add here the list of creators of the RO-Crate \n",
    "- you can go to `https://ror.org` and search for the organisation you would like to add. In this notebook, we create this information \"manually\" but it can be better streamlined in the future (for instance using [Rohub](https://rohub.org\")\n",
    "- You may have several authors and would need to add them in the RO-Crate following the same approach."
   ]
  },
  {
   "cell_type": "markdown",
   "id": "01712a6c-18ee-4c51-bdef-11255384f82a",
   "metadata": {},
   "source": [
    "### Add Persons and organisations"
   ]
  },
  {
   "cell_type": "code",
   "execution_count": 20,
   "id": "dadd5404-eca0-4ed1-80d8-716b7c8942ab",
   "metadata": {},
   "outputs": [],
   "source": [
    "list_authors = []"
   ]
  },
  {
   "cell_type": "code",
   "execution_count": 21,
   "id": "8e97d385-197b-4fa0-a2a2-ba9cd2ac597b",
   "metadata": {},
   "outputs": [
    {
     "data": {
      "text/plain": [
       "{'id': 'https://orcid.org/0000-0002-1784-2920',\n",
       " 'email': 'annef@simula.no',\n",
       " 'givenName': 'Anne',\n",
       " 'familyName': 'Fouilloux',\n",
       " 'affiliation': {'@id': 'https://ror.org/00vn06n10'}}"
      ]
     },
     "execution_count": 21,
     "metadata": {},
     "output_type": "execute_result"
    }
   ],
   "source": [
    "organisation_1 = {\n",
    "    \"name\": \"Simula Research Laboratory\",\n",
    "    \"id\": \"https://ror.org/00vn06n10\",\n",
    "    \"url\" : \"https://www.simula.no\"\n",
    "}\n",
    "creator_1 = {\n",
    "    \"id\": \"https://orcid.org/0000-0002-1784-2920\", # The id is the ORCID of the author\n",
    "    \"email\": \"annef@simula.no\",\n",
    "    \"givenName\": \"Anne\", \n",
    "    \"familyName\": \"Fouilloux\", \n",
    "    \"affiliation\": {\"@id\": organisation_1[\"id\"]}\n",
    "    \n",
    "}\n",
    "creator_1"
   ]
  },
  {
   "cell_type": "code",
   "execution_count": 22,
   "id": "51f17d61-d636-40b6-bb96-09b0b19e2d3a",
   "metadata": {},
   "outputs": [
    {
     "data": {
      "text/plain": [
       "{'id': 'https://orcid.org/0000-0002-1500-0156',\n",
       " 'email': 'tina.odaka@ifremer.fr',\n",
       " 'givenName': 'Tina Erica',\n",
       " 'familyName': 'Odaka',\n",
       " 'affiliation': {'@id': 'https://ror.org/044jxhp58'}}"
      ]
     },
     "execution_count": 22,
     "metadata": {},
     "output_type": "execute_result"
    }
   ],
   "source": [
    "organisation_2 = {\n",
    "    \"name\": \"Ifremer\",\n",
    "    \"id\": \"https://ror.org/044jxhp58\",\n",
    "    \"url\" : \"https://www.ifremer.fr\"\n",
    "}\n",
    "creator_2 = {\n",
    "    \"id\": \"https://orcid.org/0000-0002-1500-0156\", # The id is the ORCID of the author\n",
    "    \"email\": \"tina.odaka@ifremer.fr\",\n",
    "    \"givenName\": \"Tina Erica\", \n",
    "    \"familyName\": \"Odaka\", \n",
    "    \"affiliation\": {\"@id\": organisation_2[\"id\"]}\n",
    "    \n",
    "}\n",
    "creator_2"
   ]
  },
  {
   "cell_type": "code",
   "execution_count": 23,
   "id": "b6110c53-0465-4a4d-a329-47de54478ec8",
   "metadata": {},
   "outputs": [
    {
     "data": {
      "text/plain": [
       "['https://orcid.org/0000-0002-1784-2920',\n",
       " 'https://orcid.org/0000-0002-1500-0156']"
      ]
     },
     "execution_count": 23,
     "metadata": {},
     "output_type": "execute_result"
    }
   ],
   "source": [
    "list_orcids = [ creator_1[\"id\"], creator_2[\"id\"]]\n",
    "list_orcids"
   ]
  },
  {
   "cell_type": "markdown",
   "id": "af2cfa81-1bbb-4dd2-bd9b-5f4b3cfe1ed3",
   "metadata": {},
   "source": [
    "### Adding all the authors"
   ]
  },
  {
   "cell_type": "code",
   "execution_count": 24,
   "id": "fbadc428-861d-4dc5-b44d-18c8112dd125",
   "metadata": {},
   "outputs": [
    {
     "data": {
      "text/plain": [
       "['Anne Fouilloux', 'Tina Erica Odaka']"
      ]
     },
     "execution_count": 24,
     "metadata": {},
     "output_type": "execute_result"
    }
   ],
   "source": [
    "list_authors.append(creator_1['givenName'] + \" \" +  creator_1['familyName'])\n",
    "list_authors.append(creator_2['givenName'] + \" \" +  creator_2['familyName'])\n",
    "list_authors"
   ]
  },
  {
   "cell_type": "markdown",
   "id": "31357bad-6c74-46c9-9733-16587eca470a",
   "metadata": {},
   "source": [
    "Add the 2 creators as Person in the RO-Crate"
   ]
  },
  {
   "cell_type": "code",
   "execution_count": 25,
   "id": "da2383de-f5be-44c4-9dc4-438fa327be03",
   "metadata": {},
   "outputs": [
    {
     "data": {
      "text/plain": [
       "<https://orcid.org/0000-0002-1500-0156 Person>"
      ]
     },
     "execution_count": 25,
     "metadata": {},
     "output_type": "execute_result"
    }
   ],
   "source": [
    "crate.add(Person(crate, creator_1.pop(\"id\"), properties=creator_1))\n",
    "crate.add(Person(crate, creator_2.pop(\"id\"), properties=creator_2))"
   ]
  },
  {
   "cell_type": "markdown",
   "id": "5394d0fc-e5a9-4840-a921-f384bcf6b045",
   "metadata": {},
   "source": [
    "Add the list of authors in the RO-Crate"
   ]
  },
  {
   "cell_type": "code",
   "execution_count": 26,
   "id": "811cb618-bdb0-4e81-9c80-ebc1748de220",
   "metadata": {},
   "outputs": [
    {
     "data": {
      "text/plain": [
       "<./ Dataset>"
      ]
     },
     "execution_count": 26,
     "metadata": {},
     "output_type": "execute_result"
    }
   ],
   "source": [
    "crate.update_jsonld({\n",
    "    \"@id\": \"./\",\n",
    "    \"author\": list_orcids,\n",
    "})"
   ]
  },
  {
   "cell_type": "markdown",
   "id": "8b0497c1-ac3c-4035-a544-2407e027a54e",
   "metadata": {},
   "source": [
    "### Add information about data bundled in the RO-Crate"
   ]
  },
  {
   "cell_type": "markdown",
   "id": "c6b779aa-b8d5-4360-a627-06d6fe5a076c",
   "metadata": {},
   "source": [
    "#### Prepare Temporal coverage if available"
   ]
  },
  {
   "cell_type": "code",
   "execution_count": 27,
   "id": "d7e99b8c-f027-47ed-b2bf-429d0a0a8e4b",
   "metadata": {},
   "outputs": [
    {
     "data": {
      "text/plain": [
       "'2004.01.01/2004.01.01'"
      ]
     },
     "execution_count": 27,
     "metadata": {},
     "output_type": "execute_result"
    }
   ],
   "source": [
    "temporal_coverage = date_start + \"/\" + date_end\n",
    "temporal_coverage"
   ]
  },
  {
   "cell_type": "markdown",
   "id": "94595220-ffad-4cf1-b1bb-3081522342c2",
   "metadata": {},
   "source": [
    "### Prepare Spatial coverage if available"
   ]
  },
  {
   "cell_type": "code",
   "execution_count": 28,
   "id": "71378cb7-8fc1-45ec-ac2b-4c3cd715544b",
   "metadata": {},
   "outputs": [
    {
     "data": {
      "text/plain": [
       "{'@type': 'GeoShape',\n",
       " '@id': '1.6800000000000015 43.285, 1.6800000000000015 50.867471190931404, -8 50.867471190931404, -8 43.285, 1.6800000000000015 43.285',\n",
       " 'polygon': '1.6800000000000015 43.285, 1.6800000000000015 50.867471190931404, -8 50.867471190931404, -8 43.285, 1.6800000000000015 43.285'}"
      ]
     },
     "execution_count": 28,
     "metadata": {},
     "output_type": "execute_result"
    }
   ],
   "source": [
    "def get_geoshape(geometry):\n",
    "    # We assume wkt geometry\n",
    "    geo = shapely.wkt.loads(geometry)\n",
    "    if hasattr(geo, 'geoms'):\n",
    "        # take the first one\n",
    "        geo = geo.geoms[0]\n",
    "    geo = geo.wkt.replace(\"POLYGON\", \"\").replace(\"(\",\"\").replace(\")\",\"\").strip()   \n",
    "    geolocation = { \"@type\": \"GeoShape\", \"@id\": geo, \"polygon\": geo}\n",
    "    return geolocation\n",
    "\n",
    "\n",
    "geolocation = get_geoshape(geometry_wkt)\n",
    "geolocation"
   ]
  },
  {
   "cell_type": "markdown",
   "id": "a45c7795-416a-44e3-bc50-29e0dc063dab",
   "metadata": {},
   "source": [
    "### Go through each data and add it in the RO-Crate \n",
    "- In this example we only add one dataset"
   ]
  },
  {
   "cell_type": "code",
   "execution_count": 29,
   "id": "19167758-0e7f-4b56-8737-ad570bc212b5",
   "metadata": {},
   "outputs": [
    {
     "name": "stdout",
     "output_type": "stream",
     "text": [
      "properties =  {'modified_date': '2025.01.19', 'name': 'https://data-fair2adapt.ifremer.fr/riomar/small.zarr', 'location': {'@type': 'GeoShape', '@id': '1.6800000000000015 43.285, 1.6800000000000015 50.867471190931404, -8 50.867471190931404, -8 43.285, 1.6800000000000015 43.285', 'polygon': '1.6800000000000015 43.285, 1.6800000000000015 50.867471190931404, -8 50.867471190931404, -8 43.285, 1.6800000000000015 43.285'}, 'temporalCoverage': '2004.01.01/2004.01.01', 'sdDatePublished': '2025.01.19', 'dateCreated': '2024-Apr-01 10:49:18 GMT', 'dateModified': '2025.01.19', 'encodingFormat': ' text/html; charset=us-ascii '}\n"
     ]
    }
   ],
   "source": [
    "properties =  {\n",
    "    \"modified_date\": dateModified, \n",
    "    \"name\": url_data, \n",
    "    \"location\": geolocation,\n",
    "    \"temporalCoverage\": temporal_coverage, \n",
    "    \"sdDatePublished\": sdDatePublished, \n",
    "    \"dateCreated\": dateCreated, \n",
    "    \"dateModified\": dateModified, # could be the date of creation of the DGGS regridded data\n",
    "###    \"contentSize\": contentSize,  TBC\n",
    "    \"encodingFormat\": ' text/html; charset=us-ascii '\n",
    "}\n",
    "\n",
    "print(\"properties = \", properties)\n",
    "\n",
    "resource = crate.add_file(url_data, fetch_remote = False, properties=properties)"
   ]
  },
  {
   "cell_type": "markdown",
   "id": "dc365352-e78d-4f9a-85fd-b1f093b5f5b2",
   "metadata": {},
   "source": [
    "## Add metadata to RO\n",
    "\n",
    "### Add the title and description"
   ]
  },
  {
   "cell_type": "code",
   "execution_count": 30,
   "id": "e0b68bbc-23a8-477f-9d86-646ac8cc1220",
   "metadata": {},
   "outputs": [
    {
     "data": {
      "text/plain": [
       "<./ Dataset>"
      ]
     },
     "execution_count": 30,
     "metadata": {},
     "output_type": "execute_result"
    }
   ],
   "source": [
    "crate.update_jsonld({\n",
    "    \"@id\": \"./\",\n",
    "    \"description\": description,\n",
    "    \"title\": title,\n",
    "    \"name\": title,\n",
    "})"
   ]
  },
  {
   "cell_type": "markdown",
   "id": "14fb8d03-43ef-468c-8b0e-180fa2b932b4",
   "metadata": {},
   "source": [
    "### Add the publisher and creator"
   ]
  },
  {
   "cell_type": "code",
   "execution_count": 31,
   "id": "78144e35-e155-4da8-8c80-37529a667bc8",
   "metadata": {},
   "outputs": [
    {
     "data": {
      "text/plain": [
       "<./ Dataset>"
      ]
     },
     "execution_count": 31,
     "metadata": {},
     "output_type": "execute_result"
    }
   ],
   "source": [
    "publisher_name = \"Sigma2 AS\"\n",
    "publisher_url = \"https://www.wikidata.org/wiki/Q12008197\"\n",
    "publisher = {\n",
    "                \"@id\": publisher_url,\n",
    "                \"@type\": \"Organization\",\n",
    "                \"name\": publisher_name,\n",
    "                \"url\": publisher_url\n",
    "                }\n",
    "crate.add_jsonld(publisher)\n",
    "crate.update_jsonld(\n",
    "{\n",
    "    \"@id\": \"./\",\n",
    "    \"publisher\": { \"@id\": publisher_url },\n",
    "})"
   ]
  },
  {
   "cell_type": "markdown",
   "id": "64e4f181-8916-44fc-bf5c-9cb44a438e5a",
   "metadata": {},
   "source": [
    "### Add the creator of the RO-Crate"
   ]
  },
  {
   "cell_type": "code",
   "execution_count": 32,
   "id": "42a366f5-a8be-4879-94e6-1b552f0ad1ae",
   "metadata": {},
   "outputs": [
    {
     "data": {
      "text/plain": [
       "<ro-crate-metadata.json CreativeWork>"
      ]
     },
     "execution_count": 32,
     "metadata": {},
     "output_type": "execute_result"
    }
   ],
   "source": [
    "crate.update_jsonld(\n",
    "{\n",
    "    \"@id\": \"ro-crate-metadata.json\",\n",
    "    \"creator\": { \"@id\": publisher_url },\n",
    "})"
   ]
  },
  {
   "cell_type": "markdown",
   "id": "8a7a26ed-00c1-4ee5-b662-515a60e41166",
   "metadata": {},
   "source": [
    "### Add Publication date"
   ]
  },
  {
   "cell_type": "code",
   "execution_count": 33,
   "id": "5dea564e-f752-49c4-9e7b-72dda72977c5",
   "metadata": {},
   "outputs": [
    {
     "data": {
      "text/plain": [
       "<./ Dataset>"
      ]
     },
     "execution_count": 33,
     "metadata": {},
     "output_type": "execute_result"
    }
   ],
   "source": [
    "date_published =  datetime.strptime(sdDatePublished, \"%Y.%m.%d\")\n",
    "\n",
    "crate.update_jsonld({\n",
    "    \"@id\": \"./\",\n",
    "    \"datePublished\":  date_published.strftime(\"%Y-%m-%d\") ,\n",
    "})"
   ]
  },
  {
   "cell_type": "markdown",
   "id": "bdf6caf3-1a5d-4670-af82-7942c2759d98",
   "metadata": {},
   "source": [
    "### Add citation"
   ]
  },
  {
   "cell_type": "code",
   "execution_count": 34,
   "id": "ed4d2062-cf55-4fe9-a550-e621860855d5",
   "metadata": {},
   "outputs": [
    {
     "data": {
      "text/plain": [
       "<./ Dataset>"
      ]
     },
     "execution_count": 34,
     "metadata": {},
     "output_type": "execute_result"
    }
   ],
   "source": [
    "doi = \"https://doi.org/\" + doi_data\n",
    "cite_as = \" and \".join(list_authors) + \", \" + title + \", \" + publisher_name + \", \" + date_published.strftime(\"%Y\") + \". \" +  doi_data + \".\"\n",
    "\n",
    "crate.update_jsonld({\n",
    "    \"@id\": \"./\",\n",
    "    \"identifier\": doi_data,\n",
    "    \"url\": doi_data,\n",
    "    \"cite-as\":  cite_as ,\n",
    "})\n"
   ]
  },
  {
   "cell_type": "markdown",
   "id": "f34d561f-0692-4470-a282-1a7d96386da3",
   "metadata": {},
   "source": [
    "### Add studySubject, keywords, etc.\n",
    "\n",
    "The studySubject is from `http://inspire.ec.europa.eu/metadata-codelist/TopicCategory/`.\n",
    "Go to the URL and select the studySubject that is most relevant for your data"
   ]
  },
  {
   "cell_type": "code",
   "execution_count": 35,
   "id": "ab8e7036-78dd-4cb7-b1b1-380badc155f3",
   "metadata": {},
   "outputs": [
    {
     "data": {
      "text/plain": [
       "[{'@id': 'http://inspire.ec.europa.eu/metadata-codelist/TopicCategory/environment'}]"
      ]
     },
     "execution_count": 35,
     "metadata": {},
     "output_type": "execute_result"
    }
   ],
   "source": [
    "study_subjects = []\n",
    "for subject_url in studySubject_urls:\n",
    "    study_subjects.append({\n",
    "         \"@id\": subject_url\n",
    "    })\n",
    "study_subjects"
   ]
  },
  {
   "cell_type": "code",
   "execution_count": 36,
   "id": "c4195737-95cf-4bc0-b9fa-ed75dac9ceed",
   "metadata": {},
   "outputs": [
    {
     "data": {
      "text/plain": [
       "'riomar, croco'"
      ]
     },
     "execution_count": 36,
     "metadata": {},
     "output_type": "execute_result"
    }
   ],
   "source": [
    "keywords = \", \".join(keywords)\n",
    "keywords"
   ]
  },
  {
   "cell_type": "code",
   "execution_count": 37,
   "id": "15fbb73a-bd36-4178-a09a-884007c83a78",
   "metadata": {},
   "outputs": [
    {
     "data": {
      "text/plain": [
       "<./ Dataset>"
      ]
     },
     "execution_count": 37,
     "metadata": {},
     "output_type": "execute_result"
    }
   ],
   "source": [
    "crate.update_jsonld({\n",
    "    \"@id\": \"./\",\n",
    "    \"about\": study_subjects,\n",
    "    \"keywords\":  keywords,\n",
    "})"
   ]
  },
  {
   "cell_type": "markdown",
   "id": "ff473b0b-f643-49ce-bd7f-38bab4423034",
   "metadata": {},
   "source": [
    "### Add version"
   ]
  },
  {
   "cell_type": "code",
   "execution_count": 38,
   "id": "8af264c8-20f8-44b0-b3de-ee21ad8f3ac8",
   "metadata": {},
   "outputs": [
    {
     "data": {
      "text/plain": [
       "<./ Dataset>"
      ]
     },
     "execution_count": 38,
     "metadata": {},
     "output_type": "execute_result"
    }
   ],
   "source": [
    "crate.update_jsonld({\n",
    "    \"@id\": \"./\",\n",
    "    \"version\": version_data,\n",
    "})"
   ]
  },
  {
   "cell_type": "markdown",
   "id": "b7d19574-c98d-4ba2-8b97-205aee76630a",
   "metadata": {},
   "source": [
    "### Add Language"
   ]
  },
  {
   "cell_type": "code",
   "execution_count": 39,
   "id": "c2a43b07-98a7-4c11-8978-43b4e145e3b2",
   "metadata": {},
   "outputs": [],
   "source": [
    "#crate.update_jsonld({\n",
    "#    \"@id\": ,\n",
    "#    \"@type\": \"Language\",\n",
    "#})"
   ]
  },
  {
   "cell_type": "markdown",
   "id": "310d83cc-9b3a-4756-8844-90d4934e9068",
   "metadata": {},
   "source": [
    "## Write to disk"
   ]
  },
  {
   "cell_type": "code",
   "execution_count": 40,
   "id": "5436ef67-3b3c-4cc9-9f75-803da492e984",
   "metadata": {},
   "outputs": [],
   "source": [
    "crate.write(\"ro-crate\")"
   ]
  },
  {
   "cell_type": "code",
   "execution_count": 43,
   "id": "5d418015-8725-41de-8adb-954aec57f34c",
   "metadata": {},
   "outputs": [],
   "source": [
    "from rocrateValidator import validate as validate"
   ]
  },
  {
   "cell_type": "code",
   "execution_count": 44,
   "id": "6a86fd4b-6482-4640-8844-425e81e5a07b",
   "metadata": {},
   "outputs": [
    {
     "name": "stdout",
     "output_type": "stream",
     "text": [
      "This is an INVALID RO-Crate\n",
      "{\n",
      "    \"File existence\": [\n",
      "        true\n",
      "    ],\n",
      "    \"File size\": [\n",
      "        true\n",
      "    ],\n",
      "    \"Metadata file existence\": [\n",
      "        true\n",
      "    ],\n",
      "    \"Json check\": [\n",
      "        true\n",
      "    ],\n",
      "    \"Json-ld check\": [\n",
      "        true\n",
      "    ],\n",
      "    \"File descriptor check\": [\n",
      "        true\n",
      "    ],\n",
      "    \"Direct property check\": [\n",
      "        true\n",
      "    ],\n",
      "    \"Referencing check\": [\n",
      "        true\n",
      "    ],\n",
      "    \"Encoding check\": [\n",
      "        true\n",
      "    ],\n",
      "    \"Web-based data entity check\": [\n",
      "        false,\n",
      "        \"Semantic Error: Invalid ID at https://data-fair2adapt.ifremer.fr/riomar/small.zarr. It should be a downloadable url\"\n",
      "    ],\n",
      "    \"Person entity check\": [\n",
      "        true\n",
      "    ],\n",
      "    \"Organization entity check\": [\n",
      "        true\n",
      "    ],\n",
      "    \"Contact information check\": [\n",
      "        true\n",
      "    ],\n",
      "    \"Citation property check\": [\n",
      "        true\n",
      "    ],\n",
      "    \"Publisher property check\": [\n",
      "        true\n",
      "    ],\n",
      "    \"Funder property check\": [\n",
      "        true\n",
      "    ],\n",
      "    \"Licensing property check\": [\n",
      "        false,\n",
      "        \"Semantic Error: Invalid ID Value at https://creativecommons.org/licenses/by/4.0/. It must be an URL.\"\n",
      "    ],\n",
      "    \"Places property check\": [\n",
      "        true\n",
      "    ],\n",
      "    \"Time property check\": [\n",
      "        true\n",
      "    ],\n",
      "    \"Scripts and workflow check\": [\n",
      "        false,\n",
      "        \"Semantic Error: Scripts and Workflow is Wrong\"\n",
      "    ]\n",
      "}\n"
     ]
    }
   ],
   "source": [
    "v = validate.validate(\"ro-crate\")\n",
    "v.validator()"
   ]
  },
  {
   "cell_type": "code",
   "execution_count": null,
   "id": "640e656d-42e2-49be-b8b9-113b5b582845",
   "metadata": {},
   "outputs": [],
   "source": []
  }
 ],
 "metadata": {
  "kernelspec": {
   "display_name": "Python 3 (ipykernel)",
   "language": "python",
   "name": "python3"
  },
  "language_info": {
   "codemirror_mode": {
    "name": "ipython",
    "version": 3
   },
   "file_extension": ".py",
   "mimetype": "text/x-python",
   "name": "python",
   "nbconvert_exporter": "python",
   "pygments_lexer": "ipython3",
   "version": "3.12.5"
  },
  "widgets": {
   "application/vnd.jupyter.widget-state+json": {
    "state": {},
    "version_major": 2,
    "version_minor": 0
   }
  }
 },
 "nbformat": 4,
 "nbformat_minor": 5
}
