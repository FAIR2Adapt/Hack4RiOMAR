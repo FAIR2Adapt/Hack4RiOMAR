{
 "cells": [
  {
   "cell_type": "markdown",
   "id": "0e0c5e8e-c29d-4245-82dc-7783ce9d9b09",
   "metadata": {
    "scrolled": true
   },
   "source": [
    "!pip install xdggs \n",
    "!pip install healpy\n",
    "!pip install -U zarr==2.18.4\n",
    "!pip install numcodecs==0.13.1"
   ]
  },
  {
   "cell_type": "code",
   "execution_count": 1,
   "id": "5e651dac-9e32-4451-b9b2-07b975b91056",
   "metadata": {},
   "outputs": [
    {
     "data": {
      "text/plain": [
       "<xarray.core.options.set_options at 0x7ea7dc774f20>"
      ]
     },
     "execution_count": 1,
     "metadata": {},
     "output_type": "execute_result"
    }
   ],
   "source": [
    "import warnings\n",
    "import numpy as np\n",
    "import xarray as xr\n",
    "import xdggs\n",
    "import fsspec\n",
    "\n",
    "warnings.filterwarnings(\"ignore\")\n",
    "xr.set_options(display_max_rows=27)"
   ]
  },
  {
   "cell_type": "code",
   "execution_count": 2,
   "id": "533406af-eb6f-4a11-adcd-d6369c37fbef",
   "metadata": {},
   "outputs": [],
   "source": [
    "fs = fsspec.filesystem(\"http\")\n",
    "#url=\"/home/jovyan/Akathon-Geilo/odysea_10_nest.zarr\"\n",
    "#url=\"https://data-fair2adapt.ifremer.fr/odysea/odysea.zarr\"\n",
    "url=\"https://data-fair2adapt.ifremer.fr/gebco/healpix_level_11.zarr\"\n",
    "\n",
    "ds=xr.open_zarr(url).pipe(xdggs.decode)\n",
    "cell_centers = ds.dggs.cell_centers()\n",
    "ds=ds.assign_coords(\n",
    "    cell_centers.coords\n",
    ")"
   ]
  },
  {
   "cell_type": "code",
   "execution_count": 3,
   "id": "3ddc621d-26ab-4523-b307-0b54ace46780",
   "metadata": {},
   "outputs": [],
   "source": [
    "lat = np.arange(56, 71, 0.01)\n",
    "lon = np.arange(0, 15, 0.01)\n",
    "full_lat = np.repeat(lat, len(lon))\n",
    "full_lon = np.tile(lon, len(lat))"
   ]
  },
  {
   "cell_type": "code",
   "execution_count": 4,
   "id": "6675e319-9cdf-488c-aaac-1932a5fc3c8c",
   "metadata": {},
   "outputs": [
    {
     "name": "stdout",
     "output_type": "stream",
     "text": [
      "CPU times: user 4.97 s, sys: 2.52 s, total: 7.5 s\n",
      "Wall time: 8.01 s\n"
     ]
    }
   ],
   "source": [
    "%%time\n",
    "da = ds.gebco.dggs.sel_latlon(longitude=full_lon, latitude=full_lat).compute()"
   ]
  },
  {
   "cell_type": "code",
   "execution_count": 5,
   "id": "bee21776-d830-4049-9f47-f83fc655fc68",
   "metadata": {},
   "outputs": [
    {
     "data": {
      "application/vnd.jupyter.widget-view+json": {
       "model_id": "6b0e5867709045c983a83c40d63d7d7c",
       "version_major": 2,
       "version_minor": 1
      },
      "text/plain": [
       "Map(layers=[SolidPolygonLayer(filled=True, get_fill_color=<pyarrow.lib.FixedSizeListArray object at 0x7ea7b403…"
      ]
     },
     "execution_count": 5,
     "metadata": {},
     "output_type": "execute_result"
    }
   ],
   "source": [
    "import cmocean\n",
    "vmn = da.min()\n",
    "vmx = da.max()\n",
    "cmap = cmocean.tools.crop(cmocean.cm.topo, vmin=vmn, vmax=vmx, pivot=0)\n",
    "da.dggs.explore(cmap=cmap)"
   ]
  },
  {
   "cell_type": "code",
   "execution_count": 6,
   "id": "15032e04-f54d-4df4-8d53-1ba5c7f6c907",
   "metadata": {},
   "outputs": [],
   "source": [
    "#cmocean.cm.topo includes cmocean.cm.deep for values below pivot. You can also use cmocean.cm.deep for everything. "
   ]
  },
  {
   "cell_type": "code",
   "execution_count": null,
   "id": "e28c56da-8827-4124-89ca-ecea1a18cf6c",
   "metadata": {},
   "outputs": [],
   "source": []
  }
 ],
 "metadata": {
  "kernelspec": {
   "display_name": "Python 3 (ipykernel)",
   "language": "python",
   "name": "python3"
  },
  "language_info": {
   "codemirror_mode": {
    "name": "ipython",
    "version": 3
   },
   "file_extension": ".py",
   "mimetype": "text/x-python",
   "name": "python",
   "nbconvert_exporter": "python",
   "pygments_lexer": "ipython3",
   "version": "3.12.5"
  }
 },
 "nbformat": 4,
 "nbformat_minor": 5
}
