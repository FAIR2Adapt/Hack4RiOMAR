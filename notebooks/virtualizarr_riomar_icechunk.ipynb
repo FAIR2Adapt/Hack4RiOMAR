{
 "cells": [
  {
   "cell_type": "code",
   "execution_count": null,
   "id": "4f1e7761-acba-4174-9494-3321eebf1542",
   "metadata": {},
   "outputs": [],
   "source": [
    "from functools import partial\n",
    "\n",
    "import fsspec\n",
    "import virtualizarr\n",
    "import xarray as xr\n",
    "\n",
    "fs = fsspec.filesystem(\"http\")"
   ]
  },
  {
   "cell_type": "code",
   "execution_count": null,
   "id": "6048b12c-4f19-49a6-b896-447f7d434fbb",
   "metadata": {
    "scrolled": true
   },
   "outputs": [],
   "source": [
    "inroot = \"https://data-fair2adapt.ifremer.fr/riomar/GAMAR\"\n",
    "urls = fs.glob(f\"{inroot}/*.nc\")"
   ]
  },
  {
   "cell_type": "code",
   "execution_count": null,
   "id": "d2f18cb8-435e-405c-b727-84b961628740",
   "metadata": {},
   "outputs": [],
   "source": [
    "import distributed\n",
    "\n",
    "cluster = distributed.LocalCluster(n_workers=2)\n",
    "client = cluster.get_client()\n",
    "client"
   ]
  },
  {
   "cell_type": "raw",
   "id": "8808de4a-abb7-425c-869b-cc3c9eccbb81",
   "metadata": {},
   "source": [
    "virtualizarr.open_virtual_dataset(\n",
    "    urls[0],\n",
    "    backend=virtualizarr.readers.hdf.HDFVirtualBackend,\n",
    "    indexes={},\n",
    "    loadable_variables=[\"time_counter\", \"time_instant\", \"x_rho\", \"y_rho\", \"x_u\", \"x_v\", \"y_u\", \"y_v\", \"axis_nbounds\"],\n",
    "    decode_times=True,\n",
    ")"
   ]
  },
  {
   "cell_type": "code",
   "execution_count": null,
   "id": "90a61dfb-36aa-4ff8-a55c-faa1d258eeb0",
   "metadata": {
    "scrolled": true
   },
   "outputs": [],
   "source": [
    "func = partial(\n",
    "    virtualizarr.open_virtual_dataset,\n",
    "    backend=virtualizarr.readers.hdf.HDFVirtualBackend,\n",
    "    indexes={},\n",
    "    loadable_variables=[\n",
    "        \"time_counter\",\n",
    "        \"time_instant\",\n",
    "        \"x_rho\",\n",
    "        \"y_rho\",\n",
    "        \"x_u\",\n",
    "        \"x_v\",\n",
    "        \"y_u\",\n",
    "        \"y_v\",\n",
    "        \"axis_nbounds\",\n",
    "    ],\n",
    "    decode_times=True,\n",
    ")\n",
    "\n",
    "futures = client.map(func, urls[:2])\n",
    "dss = client.gather(futures)\n",
    "dss"
   ]
  },
  {
   "cell_type": "code",
   "execution_count": null,
   "id": "a1038e9e-d7a2-418e-bc25-4fe3d6396863",
   "metadata": {},
   "outputs": [],
   "source": [
    "ds = xr.concat(\n",
    "    dss,\n",
    "    dim=\"time_counter\",\n",
    "    compat=\"override\",\n",
    "    coords=\"minimal\",\n",
    "    combine_attrs=\"drop_conflicts\",\n",
    ").set_coords([\"time_counter_bounds\", \"time_instant_bounds\"])\n",
    "ds"
   ]
  },
  {
   "cell_type": "code",
   "execution_count": null,
   "id": "42fa3258-19bc-472b-a6af-66ad032d3bd8",
   "metadata": {},
   "outputs": [],
   "source": [
    "import icechunk"
   ]
  },
  {
   "cell_type": "code",
   "execution_count": null,
   "id": "06e044aa-1eea-4361-8320-dec3eac2baf5",
   "metadata": {},
   "outputs": [],
   "source": [
    "storage = icechunk.local_filesystem_storage(\"riomar.zarr\")\n",
    "storage"
   ]
  },
  {
   "cell_type": "code",
   "execution_count": null,
   "id": "140224a5-7ebe-4343-8cae-0650ae6c2fdf",
   "metadata": {},
   "outputs": [],
   "source": [
    "repo = icechunk.Repository.open_or_create(storage)\n",
    "repo"
   ]
  },
  {
   "cell_type": "code",
   "execution_count": null,
   "id": "078f11fd-bd4d-4e77-95cf-2d250fd375f3",
   "metadata": {},
   "outputs": [],
   "source": [
    "session = repo.writable_session(\"main\")\n",
    "store = session.store\n",
    "store"
   ]
  },
  {
   "cell_type": "raw",
   "id": "9ad35718-7f4a-48bd-a95b-c1e715bafc41",
   "metadata": {},
   "source": [
    "import importlib\n",
    "\n",
    "virtualizarr = importlib.reload(virtualizarr)"
   ]
  },
  {
   "cell_type": "code",
   "execution_count": null,
   "id": "cd7176ea-15c9-4b4c-92ef-073957805e91",
   "metadata": {},
   "outputs": [],
   "source": [
    "ds.virtualize.to_icechunk(store)"
   ]
  },
  {
   "cell_type": "code",
   "execution_count": null,
   "id": "165942f7-f6d1-4c60-890a-43c7056756c6",
   "metadata": {},
   "outputs": [],
   "source": [
    "session.commit(\"first two datasets\")"
   ]
  },
  {
   "cell_type": "code",
   "execution_count": null,
   "id": "27999c15-6a71-4719-95d1-315adaf687e8",
   "metadata": {},
   "outputs": [],
   "source": [
    "rs = repo.readonly_session(branch=\"main\")\n",
    "rs"
   ]
  },
  {
   "cell_type": "code",
   "execution_count": null,
   "id": "2815a3f5-5618-4f29-bc31-1f0ab33131ba",
   "metadata": {},
   "outputs": [],
   "source": [
    "xr.open_dataset(rs.store, engine=\"zarr\", chunks={}, consolidated=False)"
   ]
  },
  {
   "cell_type": "code",
   "execution_count": null,
   "id": "a2426007-aa0e-481b-8477-fdf8319777aa",
   "metadata": {},
   "outputs": [],
   "source": []
  }
 ],
 "metadata": {
  "kernelspec": {
   "display_name": "Python 3 (ipykernel)",
   "language": "python",
   "name": "python3"
  },
  "language_info": {
   "codemirror_mode": {
    "name": "ipython",
    "version": 3
   },
   "file_extension": ".py",
   "mimetype": "text/x-python",
   "name": "python",
   "nbconvert_exporter": "python",
   "pygments_lexer": "ipython3",
   "version": "3.11.6"
  }
 },
 "nbformat": 4,
 "nbformat_minor": 5
}
