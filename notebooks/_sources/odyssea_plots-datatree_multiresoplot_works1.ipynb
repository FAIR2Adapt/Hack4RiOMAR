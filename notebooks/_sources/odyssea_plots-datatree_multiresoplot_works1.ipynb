{
 "cells": [
  {
   "cell_type": "code",
   "execution_count": null,
   "id": "8f985284-18ce-4294-aa67-c52a2a78af3b",
   "metadata": {
    "scrolled": true
   },
   "outputs": [],
   "source": [
    "!pip install xdggs\n",
    "!pip install healpy\n",
    "!pip install -U zarr==2.18.4\n",
    "!pip install numcodecs==0.13.1\n",
    "!pip install -U xarray"
   ]
  },
  {
   "cell_type": "code",
   "execution_count": 10,
   "id": "b4198507-c5e4-4359-8cb0-f93949046301",
   "metadata": {},
   "outputs": [
    {
     "data": {
      "text/plain": [
       "<xarray.core.options.set_options at 0x7acaf81cd8b0>"
      ]
     },
     "execution_count": 10,
     "metadata": {},
     "output_type": "execute_result"
    }
   ],
   "source": [
    "import warnings\n",
    "import healpy as hp\n",
    "#import matplotlib.pyplot as plt\n",
    "import numpy as np\n",
    "import xarray as xr\n",
    "import xdggs\n",
    "#import fsspec\n",
    "\n",
    "warnings.filterwarnings(\"ignore\")\n",
    "xr.set_options(display_max_rows=27)"
   ]
  },
  {
   "cell_type": "code",
   "execution_count": 7,
   "id": "533406af-eb6f-4a11-adcd-d6369c37fbef",
   "metadata": {},
   "outputs": [],
   "source": [
    "url=\"https://data-fair2adapt.ifremer.fr/odysea/test/F_c13_all_nest.zarr\"\n",
    "ds_tree=xr.open_datatree(url, engine='zarr')\n"
   ]
  },
  {
   "cell_type": "code",
   "execution_count": 3,
   "id": "0484f727-bb22-4533-9df0-e25ab0dfbdbe",
   "metadata": {},
   "outputs": [],
   "source": [
    "\n",
    "def create_arrow_table(polygons, arr, coords=None):\n",
    "    from arro3.core import Array, ChunkedArray, Schema, Table\n",
    "\n",
    "    if coords is None:\n",
    "        coords = [\"latitude\", \"longitude\"]\n",
    "\n",
    "    array = Array.from_arrow(polygons)\n",
    "    name = arr.name or \"data\"\n",
    "    arrow_arrays = {\n",
    "        \"geometry\": array,\n",
    "        \"cell_ids\": ChunkedArray([Array.from_numpy(arr.coords[\"cell_ids\"])]),\n",
    "        name: ChunkedArray([Array.from_numpy(arr.data)]),\n",
    "    } | {\n",
    "        coord: ChunkedArray([Array.from_numpy(arr.coords[coord].data)])\n",
    "        for coord in coords\n",
    "        if coord in arr.coords\n",
    "    }\n",
    "\n",
    "    fields = [array.field.with_name(name) for name, array in arrow_arrays.items()]\n",
    "    schema = Schema(fields)\n",
    "\n",
    "    return Table.from_arrays(list(arrow_arrays.values()), schema=schema)\n",
    "\n",
    "\n",
    "def normalize(var, center=None):\n",
    "    from matplotlib.colors import CenteredNorm, Normalize\n",
    "\n",
    "    if center is None:\n",
    "        vmin = var.min(skipna=True)\n",
    "        vmax = var.max(skipna=True)\n",
    "        normalizer = Normalize(vmin=vmin, vmax=vmax)\n",
    "    else:\n",
    "        halfrange = np.abs(var - center).max(skipna=True)\n",
    "        normalizer = CenteredNorm(vcenter=center, halfrange=halfrange)\n",
    "\n",
    "    return normalizer(var.data)\n",
    "\n",
    "\n",
    "def exploire_layer(\n",
    "    arr,\n",
    "    cell_dim=\"cells\",\n",
    "    cmap=\"viridis\",\n",
    "    center=None,\n",
    "    alpha=None,\n",
    "):\n",
    "    from lonboard import SolidPolygonLayer\n",
    "    from lonboard.colormap import apply_continuous_cmap\n",
    "    from matplotlib import colormaps\n",
    "\n",
    "    if len(arr.dims) != 1 or cell_dim not in arr.dims:\n",
    "        raise ValueError(\n",
    "            f\"exploration only works with a single dimension ('{cell_dim}')\"\n",
    "        )\n",
    "\n",
    "    cell_ids = arr.dggs.coord.data\n",
    "    grid_info = arr.dggs.grid_info\n",
    "\n",
    "    polygons = grid_info.cell_boundaries(cell_ids, backend=\"geoarrow\")\n",
    "\n",
    "    normalized_data = normalize(arr.variable, center=center)\n",
    "\n",
    "    colormap = colormaps[cmap]\n",
    "    colors = apply_continuous_cmap(normalized_data, colormap, alpha=alpha)\n",
    "\n",
    "    table = create_arrow_table(polygons, arr)\n",
    "    layer = SolidPolygonLayer(table=table, filled=True, get_fill_color=colors)\n",
    "\n",
    "    return layer"
   ]
  },
  {
   "cell_type": "code",
   "execution_count": 20,
   "id": "d1531935-9fbb-4a04-985e-a97cfaf19e11",
   "metadata": {},
   "outputs": [
    {
     "data": {
      "application/vnd.jupyter.widget-view+json": {
       "model_id": "ab1dc1abf50c4f288a623acb57e0575a",
       "version_major": 2,
       "version_minor": 1
      },
      "text/plain": [
       "Map(layers=[SolidPolygonLayer(filled=True, get_fill_color=<pyarrow.lib.FixedSizeListArray object at 0x7acace8e…"
      ]
     },
     "execution_count": 20,
     "metadata": {},
     "output_type": "execute_result"
    }
   ],
   "source": [
    "import lonboard\n",
    "dtotal = ds_tree[\"9\"].ds\n",
    "dtotal\n",
    "ds_9=(np.sqrt(\n",
    "    dtotal.u_model.where(lambda x : x!=hp.UNSEEN)**2\n",
    "    + dtotal.v_model.where(lambda x : x!=hp.UNSEEN)**2)\n",
    "    #.dggs.sel_latlon(longitude=full_lon, latitude=full_lat)\n",
    "    .mean(dim=\"orbit\").compute()#.dggs.explore(alpha=0.8)\n",
    "   ).dropna(dim='cells').pipe(xdggs.decode)\n",
    "ds_9.dggs.explore(alpha=0.8)"
   ]
  },
  {
   "cell_type": "code",
   "execution_count": 21,
   "id": "be9a6a97-8522-476c-8662-97faf36daf2f",
   "metadata": {},
   "outputs": [],
   "source": [
    "import lonboard\n",
    "dtotal = ds_tree[\"10\"].ds\n",
    "dtotal\n",
    "ds_10=(np.sqrt(\n",
    "    dtotal.u_model.where(lambda x : x!=hp.UNSEEN)**2\n",
    "    + dtotal.v_model.where(lambda x : x!=hp.UNSEEN)**2)\n",
    "    #.dggs.sel_latlon(longitude=full_lon, latitude=full_lat)\n",
    "    .mean(dim=\"orbit\").compute()#.dggs.explore(alpha=0.8)\n",
    "   ).dropna(dim='cells').pipe(xdggs.decode)\n",
    "#ds_10.dggs.explore(alpha=0.8)"
   ]
  },
  {
   "cell_type": "code",
   "execution_count": 22,
   "id": "6081e682-e7fc-46d5-895f-c660f49ce5b8",
   "metadata": {},
   "outputs": [
    {
     "data": {
      "application/vnd.jupyter.widget-view+json": {
       "model_id": "663757010a7f4a5e9107c27e6ff2a0da",
       "version_major": 2,
       "version_minor": 1
      },
      "text/plain": [
       "Map(layers=[SolidPolygonLayer(filled=True, get_fill_color=<pyarrow.lib.FixedSizeListArray object at 0x7acaccff…"
      ]
     },
     "execution_count": 22,
     "metadata": {},
     "output_type": "execute_result"
    }
   ],
   "source": [
    "lonboard.Map(\n",
    "    [\n",
    "        exploire_layer(\n",
    "            ds_9,\n",
    "            alpha=1,\n",
    "        ),\n",
    "        exploire_layer(ds_10, alpha=1),\n",
    "    ]\n",
    ")"
   ]
  }
 ],
 "metadata": {
  "kernelspec": {
   "display_name": "Python 3 (ipykernel)",
   "language": "python",
   "name": "python3"
  },
  "language_info": {
   "codemirror_mode": {
    "name": "ipython",
    "version": 3
   },
   "file_extension": ".py",
   "mimetype": "text/x-python",
   "name": "python",
   "nbconvert_exporter": "python",
   "pygments_lexer": "ipython3",
   "version": "3.12.5"
  }
 },
 "nbformat": 4,
 "nbformat_minor": 5
}
